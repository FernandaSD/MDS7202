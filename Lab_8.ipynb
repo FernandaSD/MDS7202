{
  "cells": [
    {
      "cell_type": "markdown",
      "source": [
        "<h1><center>Laboratorio 8: Aprendizaje Supervisado 🔮</center></h1>\n",
        "\n",
        "<center><strong>MDS7202: Laboratorio de Programación Científica para Ciencia de Datos</strong></center>"
      ],
      "metadata": {
        "id": "XUZ1dFPHzAHl",
        "cell_id": "e651654461c3474fb2b0d36de22a6c14",
        "deepnote_cell_height": 103.53334045410156,
        "deepnote_cell_type": "markdown"
      }
    },
    {
      "cell_type": "markdown",
      "source": [
        "### Cuerpo Docente:\n",
        "\n",
        "- Profesor: Pablo Badilla y Ignacio Meza\n",
        "- Auxiliar: Sebastián Tinoco\n",
        "- Ayudante: Felipe Arias y Diego Cortez"
      ],
      "metadata": {
        "id": "UD8X1uhGzAHq",
        "cell_id": "7a6943958920482eb851e608d1efb6ac",
        "deepnote_cell_type": "markdown"
      }
    },
    {
      "cell_type": "markdown",
      "source": [
        "### Equipo: SUPER IMPORTANTE - notebooks sin nombre no serán revisados\n",
        "\n",
        "- Nombre de alumno 1: Catherine Benavides\n",
        "- Nombre de alumno 2: Fernanda Saavedra\n"
      ],
      "metadata": {
        "id": "tXflExjqzAHr",
        "cell_id": "0202c4ed94184a289e51ca5325b8afba",
        "deepnote_cell_height": 139.5,
        "deepnote_cell_type": "markdown"
      }
    },
    {
      "cell_type": "markdown",
      "source": [
        "### **Link de repositorio de GitHub:** https://github.com/FernandaSD/MDS7202"
      ],
      "metadata": {
        "id": "AD-V0bbZzAHr",
        "cell_id": "ce180f8cd3f3485fabbe6c0959a648db",
        "deepnote_cell_height": 61.28334045410156,
        "deepnote_cell_type": "markdown"
      }
    },
    {
      "cell_type": "markdown",
      "source": [
        "## Temas a tratar\n",
        "\n",
        "- Aprendizaje Supervisado\n",
        "- Flujos de datos a través de `Pipelines`.\n",
        "\n",
        "## Reglas\n",
        "\n",
        "- **Grupos de 2 personas**\n",
        "- Asistencia **obligatoria** a instrucciones del lab (viernes 16.15). Luego, pueden quedarse trabajando en las salas o irse.\n",
        "- **No se revisarán entregas de personas ausentes**. \n",
        "- Cualquier duda fuera del horario de clases al foro. Mensajes al equipo docente serán respondidos por este medio.\n",
        "- Prohibidas las copias. \n",
        "- Pueden usar cualquer matrial del curso que estimen conveniente.\n",
        "\n",
        "## Objetivos principales del laboratorio\n",
        "\n",
        "- Comprender el funcionamiento de clasificadores/regresores.\n",
        "- Generar múltiples modelos predictivos.\n",
        "- Comprender las ventajas de crear modelos en pipeline vs hacer las operaciones a mano.\n",
        "\n",
        "El laboratorio deberá ser desarrollado sin el uso indiscriminado de iteradores nativos de python (aka \"for\", \"while\"). La idea es que aprendan a exprimir al máximo las funciones optimizadas que nos entrega `pandas`, las cuales vale mencionar, son bastante más eficientes que los iteradores nativos sobre `DataFrames`."
      ],
      "metadata": {
        "id": "6uBLPj1PzAHs",
        "cell_id": "df3ab193db4a4f09ac25dbe605e3a83a",
        "deepnote_cell_height": 603.8499755859375,
        "deepnote_cell_type": "markdown"
      }
    },
    {
      "cell_type": "markdown",
      "source": [
        "### Importamos librerias utiles 😸"
      ],
      "metadata": {
        "id": "MhISwri4zAHy",
        "cell_id": "ad2df18de2544420960174a3f424bc5c",
        "deepnote_cell_height": 61.133331298828125,
        "deepnote_cell_type": "markdown"
      }
    },
    {
      "cell_type": "code",
      "source": [
        "# Libreria Core del lab.\n",
        "import numpy as np\n",
        "import pandas as pd\n",
        "from sklearn.pipeline import Pipeline\n",
        "from sklearn.compose import ColumnTransformer\n",
        "from sklearn.model_selection import train_test_split \n",
        "\n",
        "# Pre-procesamiento\n",
        "from sklearn.preprocessing import MinMaxScaler\n",
        "from sklearn.preprocessing import StandardScaler\n",
        "from sklearn.preprocessing import FunctionTransformer\n",
        "from sklearn.preprocessing import PowerTransformer\n",
        "from sklearn.preprocessing import OneHotEncoder\n",
        "from sklearn.preprocessing import OrdinalEncoder\n",
        "\n",
        "# Modelos\n",
        "from sklearn.tree import DecisionTreeClassifier\n",
        "from sklearn.svm import LinearSVC, SVR\n",
        "from sklearn.neighbors import KNeighborsClassifier\n",
        "from sklearn.ensemble import RandomForestClassifier, RandomForestRegressor\n",
        "from sklearn.linear_model import Ridge\n",
        "\n",
        "# Metricas de evaluación\n",
        "from sklearn.metrics import classification_report\n",
        "from sklearn.metrics import accuracy_score\n",
        "from sklearn.metrics import f1_score\n",
        "from sklearn.metrics import cohen_kappa_score\n",
        "from sklearn.metrics import r2_score\n",
        "\n",
        "#Libreria para plotear\n",
        "!pip install --upgrade plotly\n",
        "import plotly.express as px\n",
        "from plotly.subplots import make_subplots\n",
        "import plotly.graph_objects as go"
      ],
      "metadata": {
        "id": "uyc33dKdzAHy",
        "colab": {
          "base_uri": "https://localhost:8080/"
        },
        "cell_id": "c99537db269c4b04970732c3cccac0c9",
        "outputId": "917cbc7e-50ac-4d44-b10c-be6ade260ef8",
        "ExecuteTime": {
          "end_time": "2021-03-29T00:08:16.884674Z",
          "start_time": "2021-03-29T00:08:16.349846Z"
        },
        "source_hash": "cb3614e",
        "owner_user_id": "badcc427-fd3d-4615-9296-faa43ec69cfb",
        "execution_start": 1636741163382,
        "execution_millis": 7630,
        "deepnote_to_be_reexecuted": false,
        "deepnote_cell_type": "code"
      },
      "outputs": [
        {
          "output_type": "stream",
          "name": "stdout",
          "text": [
            "Looking in indexes: https://pypi.org/simple, https://us-python.pkg.dev/colab-wheels/public/simple/\n",
            "Requirement already satisfied: plotly in /usr/local/lib/python3.10/dist-packages (5.13.1)\n",
            "Collecting plotly\n",
            "  Downloading plotly-5.15.0-py2.py3-none-any.whl (15.5 MB)\n",
            "\u001b[2K     \u001b[90m━━━━━━━━━━━━━━━━━━━━━━━━━━━━━━━━━━━━━━━━\u001b[0m \u001b[32m15.5/15.5 MB\u001b[0m \u001b[31m77.5 MB/s\u001b[0m eta \u001b[36m0:00:00\u001b[0m\n",
            "\u001b[?25hRequirement already satisfied: tenacity>=6.2.0 in /usr/local/lib/python3.10/dist-packages (from plotly) (8.2.2)\n",
            "Requirement already satisfied: packaging in /usr/local/lib/python3.10/dist-packages (from plotly) (23.1)\n",
            "Installing collected packages: plotly\n",
            "  Attempting uninstall: plotly\n",
            "    Found existing installation: plotly 5.13.1\n",
            "    Uninstalling plotly-5.13.1:\n",
            "      Successfully uninstalled plotly-5.13.1\n",
            "Successfully installed plotly-5.15.0\n"
          ]
        }
      ],
      "execution_count": 1
    },
    {
      "cell_type": "markdown",
      "source": [
        "https://www.kaggle.com/antoinekrajnc/soccer-players-statistics"
      ],
      "metadata": {
        "id": "5FTGE74b3FBU",
        "cell_id": "3960faa7a101458896294c72b4b0758c",
        "deepnote_cell_height": 51.53334045410156,
        "deepnote_cell_type": "markdown"
      }
    },
    {
      "cell_type": "markdown",
      "source": [
        "# 1. Predicciones Futboleras"
      ],
      "metadata": {
        "id": "rQSDXchrwP7q"
      }
    },
    {
      "cell_type": "markdown",
      "source": [
        "<p align=\"center\">\n",
        "  <img src=\"https://drive.google.com/uc?export=view&id=1BnO4tyh3vM2P199Ec9s3JjngQ4qQ9seP\"\n",
        "\" width=\"300\">\n",
        "</p>\n",
        "\n",
        "\n",
        "Tras el trágico despido de la mítica mascota de Maipú, Renacín decide adentrarse como consultor en el mercado futbolero, el cuál (para variar...) está cargado en especulaciones. \n",
        "\n",
        "Como su principal tarea será asesorar a los directivos de los clubes sobre cuál jugador comprar y cuál no, Renacín desea generar modelos predictivos que evaluén distintas características de los jugadores; todo con el fin de tomar decisiones concretas basadas en los datos.\n",
        "\n",
        "Sin embargo, su condición de corporeo le impidió tomar la versión anterior de MDS7202, por lo que este motivo Renacín contrata a su equipo para lograr su objetivo final. Dado que aún tiene fuertes vínculos con la dirección de deportes de la municipalidad, el corporeo le entrega base de datos con las estadísticas de cada jugador para que su equipo empieze a trabajar ya con un dataset listo para ser usado.\n"
      ],
      "metadata": {
        "id": "xpOTbQcxbSiy",
        "cell_id": "f9e9147f05744f749e29d4134157f1f3",
        "deepnote_cell_height": 305.933349609375,
        "deepnote_cell_type": "markdown"
      }
    },
    {
      "cell_type": "markdown",
      "source": [
        "**Los Datos**\n",
        "\n",
        "Para este laboratorio deberán trabajar con los csv `statsplayers.csv` y `salarios.pickle`, donde deberán aplicar algoritmos de de aprendizaje supervisado (clasificación y regresión) en base a características que describen de jugadores de futbol.\n",
        "\n",
        "Para comenzar cargue el dataset señalado y a continuación vea el reporte **`Player_Stats_Report.html`** (adjunto en la carpeta del enunciado) que describe las características principales del `DataFrame`."
      ],
      "metadata": {
        "id": "jnmZfFpxTTYX",
        "cell_id": "5b831ae5e73547a1ae5f96b453f1ab2d",
        "deepnote_cell_height": 169.13333129882812,
        "deepnote_cell_type": "markdown"
      }
    },
    {
      "cell_type": "code",
      "source": [
        "# Si usted está utilizando Colabolatory le puede ser útil este código para cargar los archivos.\n",
        "try:\n",
        "    from google.colab import drive\n",
        "    drive.mount(\"/content/drive\")\n",
        "    path = 'Dirección donde tiene los archivos en el Drive'\n",
        "except: \n",
        "    print('Ignorando conexión drive-colab')"
      ],
      "metadata": {
        "id": "Jqq-s010Iwl1",
        "colab": {
          "base_uri": "https://localhost:8080/"
        },
        "cell_id": "9b9505acaf3f4906bbfc1950b04d9dca",
        "outputId": "bb7c94a1-6f67-4696-f769-8a60459e753c",
        "source_hash": "c60dc4a7",
        "execution_start": 1636741171022,
        "execution_millis": 7,
        "deepnote_to_be_reexecuted": false,
        "deepnote_cell_type": "code"
      },
      "outputs": [
        {
          "output_type": "stream",
          "name": "stdout",
          "text": [
            "Mounted at /content/drive\n"
          ]
        }
      ],
      "execution_count": 2
    },
    {
      "cell_type": "code",
      "source": [
        "df_players = pd.read_csv('/content/drive/MyDrive/stats_players.csv')\n",
        "df_players"
      ],
      "metadata": {
        "id": "bED3w3tDbSCf",
        "colab": {
          "height": 661,
          "base_uri": "https://localhost:8080/"
        },
        "cell_id": "bbd60dabcba44542826c491f69c1f53c",
        "outputId": "9f221fb9-3cf0-4b76-f290-c8461672cacc",
        "source_hash": "65944a94",
        "execution_start": 1636742947300,
        "execution_millis": 184,
        "deepnote_to_be_reexecuted": false,
        "deepnote_cell_type": "code"
      },
      "outputs": [
        {
          "output_type": "execute_result",
          "data": {
            "text/plain": [
              "                    Name          Nationality National_Position Club_Position  \\\n",
              "0      Cristiano Ronaldo             Portugal                LS            LW   \n",
              "1           Lionel Messi            Argentina                RW            RW   \n",
              "2                 Neymar               Brazil                LW            LW   \n",
              "3            Luis Suárez              Uruguay                LS            ST   \n",
              "4           Manuel Neuer              Germany                GK            GK   \n",
              "...                  ...                  ...               ...           ...   \n",
              "17583        Adam Dunbar  Republic of Ireland               NaN           Sub   \n",
              "17584       Dylan McGoey  Republic of Ireland               NaN           Sub   \n",
              "17585    Tommy Ouldridge              England               NaN           Res   \n",
              "17586         Mark Foden             Scotland               NaN           Sub   \n",
              "17587   Barry Richardson              England               NaN           Sub   \n",
              "\n",
              "       Height  Weight Preffered_Foot  Age        Work_Rate  Weak_foot  ...  \\\n",
              "0         185      80          Right   32       High / Low          4  ...   \n",
              "1         170      72           Left   29  Medium / Medium          4  ...   \n",
              "2         174      68          Right   25    High / Medium          5  ...   \n",
              "3         182      85          Right   30    High / Medium          4  ...   \n",
              "4         193      92          Right   31  Medium / Medium          4  ...   \n",
              "...       ...     ...            ...  ...              ...        ...  ...   \n",
              "17583     183      82          Right   19  Medium / Medium          1  ...   \n",
              "17584     185      80          Right   19  Medium / Medium          2  ...   \n",
              "17585     173      61          Right   18    High / Medium          2  ...   \n",
              "17586     180      80          Right   21  Medium / Medium          3  ...   \n",
              "17587     185      77          Right   47  Medium / Medium          2  ...   \n",
              "\n",
              "       Agility  Jumping  Heading  Shot_Power  Finishing  Long_Shots  Curve  \\\n",
              "0           90       95       85          92         93          90     81   \n",
              "1           90       68       71          85         95          88     89   \n",
              "2           96       61       62          78         89          77     79   \n",
              "3           86       69       77          87         94          86     86   \n",
              "4           52       78       25          25         13          16     14   \n",
              "...        ...      ...      ...         ...        ...         ...    ...   \n",
              "17583       27       56       14          16         13          13     11   \n",
              "17584       28       53       12          17         12          11     12   \n",
              "17585       54       61       41          44         28          42     35   \n",
              "17586       34       48       15          23         14          12     13   \n",
              "17587       38       51       12          13         11          16     12   \n",
              "\n",
              "       Freekick_Accuracy  Penalties  Volleys  \n",
              "0                     76         85       88  \n",
              "1                     90         74       85  \n",
              "2                     84         81       83  \n",
              "3                     84         85       88  \n",
              "4                     11         47       11  \n",
              "...                  ...        ...      ...  \n",
              "17583                 13         15       12  \n",
              "17584                 13         16       12  \n",
              "17585                 36         42       37  \n",
              "17586                 12         24       12  \n",
              "17587                 11         22       12  \n",
              "\n",
              "[17588 rows x 39 columns]"
            ],
            "text/html": [
              "\n",
              "  <div id=\"df-60039874-fb1c-4cfe-804f-a09b26442465\">\n",
              "    <div class=\"colab-df-container\">\n",
              "      <div>\n",
              "<style scoped>\n",
              "    .dataframe tbody tr th:only-of-type {\n",
              "        vertical-align: middle;\n",
              "    }\n",
              "\n",
              "    .dataframe tbody tr th {\n",
              "        vertical-align: top;\n",
              "    }\n",
              "\n",
              "    .dataframe thead th {\n",
              "        text-align: right;\n",
              "    }\n",
              "</style>\n",
              "<table border=\"1\" class=\"dataframe\">\n",
              "  <thead>\n",
              "    <tr style=\"text-align: right;\">\n",
              "      <th></th>\n",
              "      <th>Name</th>\n",
              "      <th>Nationality</th>\n",
              "      <th>National_Position</th>\n",
              "      <th>Club_Position</th>\n",
              "      <th>Height</th>\n",
              "      <th>Weight</th>\n",
              "      <th>Preffered_Foot</th>\n",
              "      <th>Age</th>\n",
              "      <th>Work_Rate</th>\n",
              "      <th>Weak_foot</th>\n",
              "      <th>...</th>\n",
              "      <th>Agility</th>\n",
              "      <th>Jumping</th>\n",
              "      <th>Heading</th>\n",
              "      <th>Shot_Power</th>\n",
              "      <th>Finishing</th>\n",
              "      <th>Long_Shots</th>\n",
              "      <th>Curve</th>\n",
              "      <th>Freekick_Accuracy</th>\n",
              "      <th>Penalties</th>\n",
              "      <th>Volleys</th>\n",
              "    </tr>\n",
              "  </thead>\n",
              "  <tbody>\n",
              "    <tr>\n",
              "      <th>0</th>\n",
              "      <td>Cristiano Ronaldo</td>\n",
              "      <td>Portugal</td>\n",
              "      <td>LS</td>\n",
              "      <td>LW</td>\n",
              "      <td>185</td>\n",
              "      <td>80</td>\n",
              "      <td>Right</td>\n",
              "      <td>32</td>\n",
              "      <td>High / Low</td>\n",
              "      <td>4</td>\n",
              "      <td>...</td>\n",
              "      <td>90</td>\n",
              "      <td>95</td>\n",
              "      <td>85</td>\n",
              "      <td>92</td>\n",
              "      <td>93</td>\n",
              "      <td>90</td>\n",
              "      <td>81</td>\n",
              "      <td>76</td>\n",
              "      <td>85</td>\n",
              "      <td>88</td>\n",
              "    </tr>\n",
              "    <tr>\n",
              "      <th>1</th>\n",
              "      <td>Lionel Messi</td>\n",
              "      <td>Argentina</td>\n",
              "      <td>RW</td>\n",
              "      <td>RW</td>\n",
              "      <td>170</td>\n",
              "      <td>72</td>\n",
              "      <td>Left</td>\n",
              "      <td>29</td>\n",
              "      <td>Medium / Medium</td>\n",
              "      <td>4</td>\n",
              "      <td>...</td>\n",
              "      <td>90</td>\n",
              "      <td>68</td>\n",
              "      <td>71</td>\n",
              "      <td>85</td>\n",
              "      <td>95</td>\n",
              "      <td>88</td>\n",
              "      <td>89</td>\n",
              "      <td>90</td>\n",
              "      <td>74</td>\n",
              "      <td>85</td>\n",
              "    </tr>\n",
              "    <tr>\n",
              "      <th>2</th>\n",
              "      <td>Neymar</td>\n",
              "      <td>Brazil</td>\n",
              "      <td>LW</td>\n",
              "      <td>LW</td>\n",
              "      <td>174</td>\n",
              "      <td>68</td>\n",
              "      <td>Right</td>\n",
              "      <td>25</td>\n",
              "      <td>High / Medium</td>\n",
              "      <td>5</td>\n",
              "      <td>...</td>\n",
              "      <td>96</td>\n",
              "      <td>61</td>\n",
              "      <td>62</td>\n",
              "      <td>78</td>\n",
              "      <td>89</td>\n",
              "      <td>77</td>\n",
              "      <td>79</td>\n",
              "      <td>84</td>\n",
              "      <td>81</td>\n",
              "      <td>83</td>\n",
              "    </tr>\n",
              "    <tr>\n",
              "      <th>3</th>\n",
              "      <td>Luis Suárez</td>\n",
              "      <td>Uruguay</td>\n",
              "      <td>LS</td>\n",
              "      <td>ST</td>\n",
              "      <td>182</td>\n",
              "      <td>85</td>\n",
              "      <td>Right</td>\n",
              "      <td>30</td>\n",
              "      <td>High / Medium</td>\n",
              "      <td>4</td>\n",
              "      <td>...</td>\n",
              "      <td>86</td>\n",
              "      <td>69</td>\n",
              "      <td>77</td>\n",
              "      <td>87</td>\n",
              "      <td>94</td>\n",
              "      <td>86</td>\n",
              "      <td>86</td>\n",
              "      <td>84</td>\n",
              "      <td>85</td>\n",
              "      <td>88</td>\n",
              "    </tr>\n",
              "    <tr>\n",
              "      <th>4</th>\n",
              "      <td>Manuel Neuer</td>\n",
              "      <td>Germany</td>\n",
              "      <td>GK</td>\n",
              "      <td>GK</td>\n",
              "      <td>193</td>\n",
              "      <td>92</td>\n",
              "      <td>Right</td>\n",
              "      <td>31</td>\n",
              "      <td>Medium / Medium</td>\n",
              "      <td>4</td>\n",
              "      <td>...</td>\n",
              "      <td>52</td>\n",
              "      <td>78</td>\n",
              "      <td>25</td>\n",
              "      <td>25</td>\n",
              "      <td>13</td>\n",
              "      <td>16</td>\n",
              "      <td>14</td>\n",
              "      <td>11</td>\n",
              "      <td>47</td>\n",
              "      <td>11</td>\n",
              "    </tr>\n",
              "    <tr>\n",
              "      <th>...</th>\n",
              "      <td>...</td>\n",
              "      <td>...</td>\n",
              "      <td>...</td>\n",
              "      <td>...</td>\n",
              "      <td>...</td>\n",
              "      <td>...</td>\n",
              "      <td>...</td>\n",
              "      <td>...</td>\n",
              "      <td>...</td>\n",
              "      <td>...</td>\n",
              "      <td>...</td>\n",
              "      <td>...</td>\n",
              "      <td>...</td>\n",
              "      <td>...</td>\n",
              "      <td>...</td>\n",
              "      <td>...</td>\n",
              "      <td>...</td>\n",
              "      <td>...</td>\n",
              "      <td>...</td>\n",
              "      <td>...</td>\n",
              "      <td>...</td>\n",
              "    </tr>\n",
              "    <tr>\n",
              "      <th>17583</th>\n",
              "      <td>Adam Dunbar</td>\n",
              "      <td>Republic of Ireland</td>\n",
              "      <td>NaN</td>\n",
              "      <td>Sub</td>\n",
              "      <td>183</td>\n",
              "      <td>82</td>\n",
              "      <td>Right</td>\n",
              "      <td>19</td>\n",
              "      <td>Medium / Medium</td>\n",
              "      <td>1</td>\n",
              "      <td>...</td>\n",
              "      <td>27</td>\n",
              "      <td>56</td>\n",
              "      <td>14</td>\n",
              "      <td>16</td>\n",
              "      <td>13</td>\n",
              "      <td>13</td>\n",
              "      <td>11</td>\n",
              "      <td>13</td>\n",
              "      <td>15</td>\n",
              "      <td>12</td>\n",
              "    </tr>\n",
              "    <tr>\n",
              "      <th>17584</th>\n",
              "      <td>Dylan McGoey</td>\n",
              "      <td>Republic of Ireland</td>\n",
              "      <td>NaN</td>\n",
              "      <td>Sub</td>\n",
              "      <td>185</td>\n",
              "      <td>80</td>\n",
              "      <td>Right</td>\n",
              "      <td>19</td>\n",
              "      <td>Medium / Medium</td>\n",
              "      <td>2</td>\n",
              "      <td>...</td>\n",
              "      <td>28</td>\n",
              "      <td>53</td>\n",
              "      <td>12</td>\n",
              "      <td>17</td>\n",
              "      <td>12</td>\n",
              "      <td>11</td>\n",
              "      <td>12</td>\n",
              "      <td>13</td>\n",
              "      <td>16</td>\n",
              "      <td>12</td>\n",
              "    </tr>\n",
              "    <tr>\n",
              "      <th>17585</th>\n",
              "      <td>Tommy Ouldridge</td>\n",
              "      <td>England</td>\n",
              "      <td>NaN</td>\n",
              "      <td>Res</td>\n",
              "      <td>173</td>\n",
              "      <td>61</td>\n",
              "      <td>Right</td>\n",
              "      <td>18</td>\n",
              "      <td>High / Medium</td>\n",
              "      <td>2</td>\n",
              "      <td>...</td>\n",
              "      <td>54</td>\n",
              "      <td>61</td>\n",
              "      <td>41</td>\n",
              "      <td>44</td>\n",
              "      <td>28</td>\n",
              "      <td>42</td>\n",
              "      <td>35</td>\n",
              "      <td>36</td>\n",
              "      <td>42</td>\n",
              "      <td>37</td>\n",
              "    </tr>\n",
              "    <tr>\n",
              "      <th>17586</th>\n",
              "      <td>Mark Foden</td>\n",
              "      <td>Scotland</td>\n",
              "      <td>NaN</td>\n",
              "      <td>Sub</td>\n",
              "      <td>180</td>\n",
              "      <td>80</td>\n",
              "      <td>Right</td>\n",
              "      <td>21</td>\n",
              "      <td>Medium / Medium</td>\n",
              "      <td>3</td>\n",
              "      <td>...</td>\n",
              "      <td>34</td>\n",
              "      <td>48</td>\n",
              "      <td>15</td>\n",
              "      <td>23</td>\n",
              "      <td>14</td>\n",
              "      <td>12</td>\n",
              "      <td>13</td>\n",
              "      <td>12</td>\n",
              "      <td>24</td>\n",
              "      <td>12</td>\n",
              "    </tr>\n",
              "    <tr>\n",
              "      <th>17587</th>\n",
              "      <td>Barry Richardson</td>\n",
              "      <td>England</td>\n",
              "      <td>NaN</td>\n",
              "      <td>Sub</td>\n",
              "      <td>185</td>\n",
              "      <td>77</td>\n",
              "      <td>Right</td>\n",
              "      <td>47</td>\n",
              "      <td>Medium / Medium</td>\n",
              "      <td>2</td>\n",
              "      <td>...</td>\n",
              "      <td>38</td>\n",
              "      <td>51</td>\n",
              "      <td>12</td>\n",
              "      <td>13</td>\n",
              "      <td>11</td>\n",
              "      <td>16</td>\n",
              "      <td>12</td>\n",
              "      <td>11</td>\n",
              "      <td>22</td>\n",
              "      <td>12</td>\n",
              "    </tr>\n",
              "  </tbody>\n",
              "</table>\n",
              "<p>17588 rows × 39 columns</p>\n",
              "</div>\n",
              "      <button class=\"colab-df-convert\" onclick=\"convertToInteractive('df-60039874-fb1c-4cfe-804f-a09b26442465')\"\n",
              "              title=\"Convert this dataframe to an interactive table.\"\n",
              "              style=\"display:none;\">\n",
              "        \n",
              "  <svg xmlns=\"http://www.w3.org/2000/svg\" height=\"24px\"viewBox=\"0 0 24 24\"\n",
              "       width=\"24px\">\n",
              "    <path d=\"M0 0h24v24H0V0z\" fill=\"none\"/>\n",
              "    <path d=\"M18.56 5.44l.94 2.06.94-2.06 2.06-.94-2.06-.94-.94-2.06-.94 2.06-2.06.94zm-11 1L8.5 8.5l.94-2.06 2.06-.94-2.06-.94L8.5 2.5l-.94 2.06-2.06.94zm10 10l.94 2.06.94-2.06 2.06-.94-2.06-.94-.94-2.06-.94 2.06-2.06.94z\"/><path d=\"M17.41 7.96l-1.37-1.37c-.4-.4-.92-.59-1.43-.59-.52 0-1.04.2-1.43.59L10.3 9.45l-7.72 7.72c-.78.78-.78 2.05 0 2.83L4 21.41c.39.39.9.59 1.41.59.51 0 1.02-.2 1.41-.59l7.78-7.78 2.81-2.81c.8-.78.8-2.07 0-2.86zM5.41 20L4 18.59l7.72-7.72 1.47 1.35L5.41 20z\"/>\n",
              "  </svg>\n",
              "      </button>\n",
              "      \n",
              "  <style>\n",
              "    .colab-df-container {\n",
              "      display:flex;\n",
              "      flex-wrap:wrap;\n",
              "      gap: 12px;\n",
              "    }\n",
              "\n",
              "    .colab-df-convert {\n",
              "      background-color: #E8F0FE;\n",
              "      border: none;\n",
              "      border-radius: 50%;\n",
              "      cursor: pointer;\n",
              "      display: none;\n",
              "      fill: #1967D2;\n",
              "      height: 32px;\n",
              "      padding: 0 0 0 0;\n",
              "      width: 32px;\n",
              "    }\n",
              "\n",
              "    .colab-df-convert:hover {\n",
              "      background-color: #E2EBFA;\n",
              "      box-shadow: 0px 1px 2px rgba(60, 64, 67, 0.3), 0px 1px 3px 1px rgba(60, 64, 67, 0.15);\n",
              "      fill: #174EA6;\n",
              "    }\n",
              "\n",
              "    [theme=dark] .colab-df-convert {\n",
              "      background-color: #3B4455;\n",
              "      fill: #D2E3FC;\n",
              "    }\n",
              "\n",
              "    [theme=dark] .colab-df-convert:hover {\n",
              "      background-color: #434B5C;\n",
              "      box-shadow: 0px 1px 3px 1px rgba(0, 0, 0, 0.15);\n",
              "      filter: drop-shadow(0px 1px 2px rgba(0, 0, 0, 0.3));\n",
              "      fill: #FFFFFF;\n",
              "    }\n",
              "  </style>\n",
              "\n",
              "      <script>\n",
              "        const buttonEl =\n",
              "          document.querySelector('#df-60039874-fb1c-4cfe-804f-a09b26442465 button.colab-df-convert');\n",
              "        buttonEl.style.display =\n",
              "          google.colab.kernel.accessAllowed ? 'block' : 'none';\n",
              "\n",
              "        async function convertToInteractive(key) {\n",
              "          const element = document.querySelector('#df-60039874-fb1c-4cfe-804f-a09b26442465');\n",
              "          const dataTable =\n",
              "            await google.colab.kernel.invokeFunction('convertToInteractive',\n",
              "                                                     [key], {});\n",
              "          if (!dataTable) return;\n",
              "\n",
              "          const docLinkHtml = 'Like what you see? Visit the ' +\n",
              "            '<a target=\"_blank\" href=https://colab.research.google.com/notebooks/data_table.ipynb>data table notebook</a>'\n",
              "            + ' to learn more about interactive tables.';\n",
              "          element.innerHTML = '';\n",
              "          dataTable['output_type'] = 'display_data';\n",
              "          await google.colab.output.renderOutput(dataTable, element);\n",
              "          const docLink = document.createElement('div');\n",
              "          docLink.innerHTML = docLinkHtml;\n",
              "          element.appendChild(docLink);\n",
              "        }\n",
              "      </script>\n",
              "    </div>\n",
              "  </div>\n",
              "  "
            ]
          },
          "metadata": {},
          "execution_count": 3
        }
      ],
      "execution_count": 3
    },
    {
      "cell_type": "markdown",
      "source": [
        "## 1.1 Predicción de Seleccionados Nacionales "
      ],
      "metadata": {
        "id": "uo6OjdLm5ql1"
      }
    },
    {
      "cell_type": "markdown",
      "source": [
        "Como primera tarea, Renacín, intrigado por la posibilidad de saber qué tan reconocido es un jugador, le consulta a su equipo si es posible predecir si un jugador será o no seleccionado nacional a partir de sus estadísticas en el juego. \n",
        "\n",
        "<p align=\"center\">\n",
        "  <img src=\"https://thumbs.gfycat.com/ThornyFrankFoxhound-size_restricted.gif\" width=\"500\">\n",
        "</p>"
      ],
      "metadata": {
        "id": "2R3b7Qe501t5",
        "cell_id": "9e9e7d5dbc2f420ba40afb038a3c7b37",
        "owner_user_id": "d50c3174-babb-4861-9c71-7e3af66458b8",
        "deepnote_cell_height": 169.93333435058594,
        "deepnote_cell_type": "markdown"
      }
    },
    {
      "cell_type": "markdown",
      "source": [
        "### 1.1.1 Generación de Labels para la Clasificación [Sin Puntaje]"
      ],
      "metadata": {
        "id": "PZuNmhj5kW_x"
      }
    },
    {
      "cell_type": "markdown",
      "source": [
        "Primero comience generando las labels para la clasificación. Para esto, trabaje sobre el atributo ```National_Position``` suponiendo que los valores nulos son jugadores no seleccionados para representar a su país. \n",
        "\n",
        "Hecho esto, ¿Cuantos ejemplos por cada clase se tienen? Comente lo que observa.\n",
        "\n"
      ],
      "metadata": {
        "id": "PIe_Ha58pQRC",
        "cell_id": "4fd0ec6793474c6e8dd304827ef35c74",
        "deepnote_cell_height": 158.3333282470703,
        "deepnote_cell_type": "markdown"
      }
    },
    {
      "cell_type": "markdown",
      "source": [
        "**Respuesta:**"
      ],
      "metadata": {
        "tags": [],
        "cell_id": "4bafb6f1da424f84be4eceb20d100d91",
        "deepnote_cell_height": 51.53334045410156,
        "deepnote_cell_type": "markdown",
        "id": "zDEsq-7VuqXw"
      }
    },
    {
      "cell_type": "code",
      "source": [
        "# Cantidad de jugadores seleccionados y no seleccionados\n",
        "print(\"Cantidad de jugadores no seleccionados:\", df_players['National_Position'].isna().sum())\n",
        "print(\"Cantidad de jugadores seleccionados:\", df_players.shape[0]-df_players['National_Position'].isna().sum())"
      ],
      "metadata": {
        "colab": {
          "base_uri": "https://localhost:8080/"
        },
        "id": "RWHR9YwR79Jm",
        "outputId": "4956f795-d2f4-4ebe-ba5e-cd0e47cf0905"
      },
      "execution_count": 4,
      "outputs": [
        {
          "output_type": "stream",
          "name": "stdout",
          "text": [
            "Cantidad de jugadores no seleccionados: 16513\n",
            "Cantidad de jugadores seleccionados: 1075\n"
          ]
        }
      ]
    },
    {
      "cell_type": "code",
      "source": [
        "# Variable target\n",
        "df_players['National_Position'] = df_players['National_Position'].isna().apply(lambda x: 0 if x == True else 1)"
      ],
      "metadata": {
        "id": "iuYU9CvezXK9"
      },
      "execution_count": 5,
      "outputs": []
    },
    {
      "cell_type": "markdown",
      "source": [
        "Se tienen 1075 futbolistas clasificados y 16513 futbolístas no clasificado. Se comenta que estas proporciones coinciden con lo esperado, ya que el porcentaje de jugadores que logran ser seleccionados nacionales es bajo. Por otra parte, como las clases están desbalanceadas podrían haber problemas más adelante en los modelos."
      ],
      "metadata": {
        "id": "RtR7TA6J2rz0"
      }
    },
    {
      "cell_type": "markdown",
      "source": [
        "### 1.1.2 Camino a la clasificación [1 punto]"
      ],
      "metadata": {
        "id": "2Fnw1doEkRmD"
      }
    },
    {
      "cell_type": "markdown",
      "source": [
        "<p align=\"center\">\n",
        "  <img src=\"https://c.tenor.com/SoXZJHWnhKAAAAAC/pitbull-medel.gif\" width=\"500\">\n",
        "</p>\n",
        "\n",
        "Para preprocesar el dataset, genere un `ColumnTransformer` en donde especifique las transformaciones que hay que realizar para cada columna (por ejemplo StandarScaler, MinMaxScaler, OneHotEncoder, etc...) para que puedan ser utilizadas correctamente por el modelo predictivo y guardelo en algúna variable.\n",
        "\n",
        "Luego, comente y justifique las transformaciones elegidas sobre cada una de las variables (para esto utilice el material ```Player_Stats_Report.html``` que viene en el zip del lab), al igual que las transformaciones aplicadas.\n",
        "\n",
        "Hecho lo anterior, **defina al menos 3 pipelines para la clasificación**, en donde utilice el mismo ColumnTransformer definido anteriormente, pero que varie entre cada pipeline los clasificadores. \n",
        "\n",
        "Para seleccionar los clasificadores más adecuados, utilice la siguiente guía:\n",
        "\n",
        "<p align=\"center\">\n",
        "  <img src=\"https://scikit-learn.org/stable/_static/ml_map.png\" width=\"500\">\n",
        "</p>\n",
        "\n",
        "<br/>\n",
        "\n",
        "Con ella, comente y justifique cada una de las decisiones tomadas al momento de desarrollar su pipeline.\n",
        "\n",
        "**Nota:** Si tiene problemas al utilizar OneHotEncoder puede utilizar el parámetro handle_unknown='ignore'. Esto hace que en la codificación se omitan las categorias que no aparecen en el entrenamiento. Pregunta dudosa (no tiene puntaje), ¿esto tiene sentido a nivel de modelos?.\n",
        "\n",
        "**To-Do:**\n",
        "\n",
        "- [ ] Genere un ```ColumnTransformer``` enfocado en preprocesar los datos.\n",
        "- [ ] Indicar y Justificar que preprocesamiento utiliza sobre cada columna.\n",
        "- [ ] Crear 3 ``pipelines`` con diferentes clasificadores.\n",
        "- [ ] Para seleccionar los clasificadores base sus decisiones en la siguiente [guía](https://scikit-learn.org/stable/tutorial/machine_learning_map/index.html)\n",
        "- [ ] No entrenar los ``pipelines`` aún.\n",
        "\n",
        "**Nota:** No es necesario entrenar los clasificadores aún."
      ],
      "metadata": {
        "id": "0F70XPRFpWH9",
        "cell_id": "882716f31dd4415983e3ed8e403ddcf0",
        "deepnote_cell_height": 678.1500244140625,
        "deepnote_cell_type": "markdown"
      }
    },
    {
      "cell_type": "markdown",
      "source": [
        "**Respuesta:**"
      ],
      "metadata": {
        "tags": [],
        "cell_id": "494effcc7471436084ebd22e15296fb9",
        "deepnote_cell_height": 51.53334045410156,
        "deepnote_cell_type": "markdown",
        "id": "mDzQddN2uqXy"
      }
    },
    {
      "cell_type": "markdown",
      "source": [
        "**Preprocesamiento de variables de variables**\n",
        "\n",
        "- Para variables categóricas se utilizará OneHotEncoder, dado que se trata de variables nominales.\n",
        "- En el caso de las variables numéricas se aplica MinMaxScaler. Se consideró relevante el uso de escaladores ya que las variables tienen distintos rangos lo cual podría sesgar el análisis. Además, en el EDA no se observan variables con valores atipícos muy extremos, por lo que se prefirió usar un escalador fácilmente interpretable y que mantenga la distribución de los datos.\n",
        "- Por otro lado, 'National_Position' no necesita ser transformada al ser la variable objetivo por lo que se utiliza passthrough.\n",
        "\n",
        "Finalmente, se comenta que se eliminó la variable \"Name\" ya que tiene una cardinalidad muy alta (más de 95% de la cardinalidad de la base de datos) y porque no se espera que haya una correlación muy alta con esta variable y el hecho de que un jugador sea clasificiado nacional. "
      ],
      "metadata": {
        "id": "zMr53SQbs_NY"
      }
    },
    {
      "cell_type": "code",
      "source": [
        "# Datos Categóricos\n",
        "cat_cols = ['Nationality', 'Club_Position', 'Preffered_Foot', 'Work_Rate']\n",
        "cat_transformer = OneHotEncoder(handle_unknown='ignore', sparse=False)\n",
        "\n",
        "# Datos numéricos\n",
        "num_cols = ['Height', 'Weight', 'Age', 'Weak_foot',\n",
        "       'Skill_Moves', 'Ball_Control', 'Dribbling', 'Marking', 'Sliding_Tackle',\n",
        "       'Standing_Tackle', 'Aggression', 'Reactions', 'Interceptions', 'Vision',\n",
        "       'Composure', 'Crossing', 'Short_Pass', 'Long_Pass', 'Acceleration',\n",
        "       'Speed', 'Stamina', 'Strength', 'Balance', 'Agility', 'Jumping',\n",
        "       'Heading', 'Shot_Power', 'Finishing', 'Long_Shots', 'Curve',\n",
        "       'Freekick_Accuracy', 'Penalties', 'Volleys']\n",
        "num_transformer = MinMaxScaler()\n",
        "\n",
        "# ColumnTransformer\n",
        "preprocessor = ColumnTransformer(\n",
        "    transformers=[('cat', cat_transformer, cat_cols),\n",
        "        ('num', num_transformer, num_cols)],\n",
        "    remainder='passthrough', \n",
        "    sparse_threshold = 0)"
      ],
      "metadata": {
        "tags": [],
        "cell_id": "3405035b85c6475594991b29a465a506",
        "deepnote_cell_height": 65.13333129882812,
        "deepnote_cell_type": "code",
        "id": "pfczYtY-uqXz"
      },
      "outputs": [],
      "execution_count": 6
    },
    {
      "cell_type": "markdown",
      "source": [
        "Ahora, de acuerdo a la guía, se cuenta con más de 50 registros y se está prediciendo una categoría. Luego, se tiene que se cuenta con la data etiquetada y con menos de 100.000 registros. Dado lo anterior, los modelos a implementar son Linear SVC, KNeighborsClassifier y RandomForestCLassifier."
      ],
      "metadata": {
        "id": "OGcxkSX7uxF8"
      }
    },
    {
      "cell_type": "code",
      "source": [
        "# Pipeline\n",
        "pipeline_lsvc = Pipeline(steps=[('preprocessor', preprocessor), \n",
        " ('linearsvc', LinearSVC(random_state=0))])\n",
        "\n",
        "pipeline_knc = Pipeline(steps=[('preprocessor', preprocessor), \n",
        " ('knc', KNeighborsClassifier(n_neighbors=3))])\n",
        "\n",
        "pipeline_rf = Pipeline(steps=[('preprocessor', preprocessor), \n",
        " ('rf', RandomForestClassifier(max_depth=2, random_state=0))])"
      ],
      "metadata": {
        "id": "ddxgnnE2BbQH"
      },
      "execution_count": 7,
      "outputs": []
    },
    {
      "cell_type": "markdown",
      "source": [
        "### 1.1.3 Entrenemos los pipelines [1 punto]"
      ],
      "metadata": {
        "id": "Er2bAL0fkbQ1"
      }
    },
    {
      "cell_type": "markdown",
      "source": [
        "<p align=\"center\">\n",
        "  <img src=\"https://i.gifer.com/7Cc8.gif\" width=\"350\">\n",
        "</p>\n"
      ],
      "metadata": {
        "id": "MpKq6oO3vCNL",
        "cell_id": "b7fa6937d9a043fd93b7966fb0e81861",
        "deepnote_cell_height": 101.13333129882812,
        "deepnote_cell_type": "markdown"
      }
    },
    {
      "cell_type": "markdown",
      "source": [
        "Ahora, entrene los `pipeline` generados en los pasos anteriores. Para esto, primero separe los datos de entrenamiento en un conjunto de entrenamiento y de prueba  (la proporción queda a su juicio).\n",
        "\n",
        "En este paso, seleccione los ejemplos de forma aleatoria e intente mantener la distribución original de labels de cada clase en los conjuntos de prueba/entrenamiento. (vea la documentación de `train_test_split`).\n",
        "\n",
        "\n",
        "Luego, entrene los pipelines\n",
        "\n",
        "Una vez entrenado su modelo, evalue su rendimiento a través de diferentes métricas, comentando que significa cada uno de los valores obtenidos. Puede usar la función `classification_report` para corroborar sus resultados.\n",
        "\n",
        "- ¿Qué implican los valores de accuracy, precisión y recall de la clase positiva (la que indica que un jugador es seleccionado nacional)?\n",
        "- ¿Podrían mejorarse los resultados?, ¿Cómo?\n",
        "- ¿Influye la cantidad de ejemplos por clase?\n",
        "\n",
        "**To-Do**:\n",
        "\n",
        "- [ ] Separar el conjunto de datos en entrenamiento y de prueba.\n",
        "- [ ] Entrenar los `pipelines`.\n",
        "- [ ] Utilizar las métricas para evaluar los modelos generados.\n"
      ],
      "metadata": {
        "id": "wE_1aZaIvOeN",
        "cell_id": "5ead21d7e26d4e3da1486c9937f22968",
        "deepnote_cell_height": 454.433349609375,
        "deepnote_cell_type": "markdown"
      }
    },
    {
      "cell_type": "markdown",
      "source": [
        "**Respuesta:**"
      ],
      "metadata": {
        "tags": [],
        "cell_id": "053a95315e3245b39ba9d263d932e7d4",
        "deepnote_cell_height": 51.53334045410156,
        "deepnote_cell_type": "markdown",
        "id": "MYHWtLvSuqX0"
      }
    },
    {
      "cell_type": "code",
      "source": [
        "# Separación del dataset\n",
        "df_players.dropna(inplace = True)\n",
        "\n",
        "X = df_players[['Nationality', 'Club_Position', 'Height',\n",
        "       'Weight', 'Preffered_Foot', 'Age', 'Work_Rate', 'Weak_foot',\n",
        "       'Skill_Moves', 'Ball_Control', 'Dribbling', 'Marking', 'Sliding_Tackle',\n",
        "       'Standing_Tackle', 'Aggression', 'Reactions', 'Interceptions', 'Vision',\n",
        "       'Composure', 'Crossing', 'Short_Pass', 'Long_Pass', 'Acceleration',\n",
        "       'Speed', 'Stamina', 'Strength', 'Balance', 'Agility', 'Jumping',\n",
        "       'Heading', 'Shot_Power', 'Finishing', 'Long_Shots', 'Curve',\n",
        "       'Freekick_Accuracy', 'Penalties', 'Volleys']]\n",
        "\n",
        "y = df_players['National_Position']\n",
        "\n",
        "X_train, X_test, y_train, y_test = train_test_split(X, y, stratify=y, \n",
        "                                                    test_size=0.3, random_state=0)"
      ],
      "metadata": {
        "id": "b4IWamgSdoa1"
      },
      "execution_count": 8,
      "outputs": []
    },
    {
      "cell_type": "markdown",
      "source": [
        "En las variables independientes (X) no se incluye 'Name' ya que se considera que no aporta a la clasificación."
      ],
      "metadata": {
        "id": "TwPpJLA1jmZq"
      }
    },
    {
      "cell_type": "code",
      "source": [
        "# Entrenamiento y métricas de evaluación\n",
        "pipeline_lsvc.fit(X_train, y_train)\n",
        "y_pred_lsvc = pipeline_lsvc.predict(X_test)\n",
        "print(classification_report(y_test, y_pred_lsvc))"
      ],
      "metadata": {
        "colab": {
          "base_uri": "https://localhost:8080/"
        },
        "id": "Rmun2dpp0ojr",
        "outputId": "01ba250e-5777-4de9-c7bf-8d7ec1ddbeb9"
      },
      "execution_count": 9,
      "outputs": [
        {
          "output_type": "stream",
          "name": "stderr",
          "text": [
            "/usr/local/lib/python3.10/dist-packages/sklearn/preprocessing/_encoders.py:868: FutureWarning: `sparse` was renamed to `sparse_output` in version 1.2 and will be removed in 1.4. `sparse_output` is ignored unless you leave `sparse` to its default value.\n",
            "  warnings.warn(\n"
          ]
        },
        {
          "output_type": "stream",
          "name": "stdout",
          "text": [
            "              precision    recall  f1-score   support\n",
            "\n",
            "           0       0.96      0.99      0.97      4954\n",
            "           1       0.70      0.33      0.45       323\n",
            "\n",
            "    accuracy                           0.95      5277\n",
            "   macro avg       0.83      0.66      0.71      5277\n",
            "weighted avg       0.94      0.95      0.94      5277\n",
            "\n"
          ]
        }
      ]
    },
    {
      "cell_type": "code",
      "source": [
        "# Entrenamiento y métricas de evaluación\n",
        "pipeline_knc.fit(X_train, y_train)\n",
        "y_pred_knc = pipeline_knc.predict(X_test)\n",
        "print(classification_report(y_test, y_pred_knc))"
      ],
      "metadata": {
        "colab": {
          "base_uri": "https://localhost:8080/"
        },
        "id": "7PSwbeFe01i-",
        "outputId": "d8cc3e7e-9c31-418b-9f89-32f3ba55053d"
      },
      "execution_count": 10,
      "outputs": [
        {
          "output_type": "stream",
          "name": "stderr",
          "text": [
            "/usr/local/lib/python3.10/dist-packages/sklearn/preprocessing/_encoders.py:868: FutureWarning: `sparse` was renamed to `sparse_output` in version 1.2 and will be removed in 1.4. `sparse_output` is ignored unless you leave `sparse` to its default value.\n",
            "  warnings.warn(\n"
          ]
        },
        {
          "output_type": "stream",
          "name": "stdout",
          "text": [
            "              precision    recall  f1-score   support\n",
            "\n",
            "           0       0.95      0.99      0.97      4954\n",
            "           1       0.47      0.15      0.23       323\n",
            "\n",
            "    accuracy                           0.94      5277\n",
            "   macro avg       0.71      0.57      0.60      5277\n",
            "weighted avg       0.92      0.94      0.92      5277\n",
            "\n"
          ]
        }
      ]
    },
    {
      "cell_type": "code",
      "source": [
        "# Entrenamiento y métricas de evaluación\n",
        "pipeline_rf.fit(X_train, y_train)\n",
        "y_pred_rf = pipeline_rf.predict(X_test)\n",
        "print(classification_report(y_test, y_pred_rf))"
      ],
      "metadata": {
        "colab": {
          "base_uri": "https://localhost:8080/"
        },
        "id": "Aq_x4oUj0050",
        "outputId": "a487a531-b828-4071-9270-1352c316706f"
      },
      "execution_count": 11,
      "outputs": [
        {
          "output_type": "stream",
          "name": "stderr",
          "text": [
            "/usr/local/lib/python3.10/dist-packages/sklearn/preprocessing/_encoders.py:868: FutureWarning: `sparse` was renamed to `sparse_output` in version 1.2 and will be removed in 1.4. `sparse_output` is ignored unless you leave `sparse` to its default value.\n",
            "  warnings.warn(\n"
          ]
        },
        {
          "output_type": "stream",
          "name": "stdout",
          "text": [
            "              precision    recall  f1-score   support\n",
            "\n",
            "           0       0.94      1.00      0.97      4954\n",
            "           1       0.00      0.00      0.00       323\n",
            "\n",
            "    accuracy                           0.94      5277\n",
            "   macro avg       0.47      0.50      0.48      5277\n",
            "weighted avg       0.88      0.94      0.91      5277\n",
            "\n"
          ]
        },
        {
          "output_type": "stream",
          "name": "stderr",
          "text": [
            "/usr/local/lib/python3.10/dist-packages/sklearn/metrics/_classification.py:1344: UndefinedMetricWarning: Precision and F-score are ill-defined and being set to 0.0 in labels with no predicted samples. Use `zero_division` parameter to control this behavior.\n",
            "  _warn_prf(average, modifier, msg_start, len(result))\n",
            "/usr/local/lib/python3.10/dist-packages/sklearn/metrics/_classification.py:1344: UndefinedMetricWarning: Precision and F-score are ill-defined and being set to 0.0 in labels with no predicted samples. Use `zero_division` parameter to control this behavior.\n",
            "  _warn_prf(average, modifier, msg_start, len(result))\n",
            "/usr/local/lib/python3.10/dist-packages/sklearn/metrics/_classification.py:1344: UndefinedMetricWarning: Precision and F-score are ill-defined and being set to 0.0 in labels with no predicted samples. Use `zero_division` parameter to control this behavior.\n",
            "  _warn_prf(average, modifier, msg_start, len(result))\n"
          ]
        }
      ]
    },
    {
      "cell_type": "markdown",
      "source": [
        "**¿Qué implican los valores de accuracy, precisión y recall de la clase positiva (la que indica que un jugador es seleccionado nacional)?**\n",
        "\n",
        "La clase que indica que un jugador es seleccionado nacional (valor 1) y en esta se pueden observar bajos resultados en las métricas. El accuracy indica qué tan bien el modelo clasifica correctamente a los jugadores, tanto a los seleccionados como los no seleccionados y es la métrica que mejores resultados obtiene, variando entre 0.94 y 0.95. Esto se debe a que considera tanto la clase mayoritaria (No seleccionados) como la clase minoritaria (Seleccionados). \n",
        "\n",
        "La precisión muestra qué tan confiable es el modelo al predecir si un jugador es seleccionado nacional, es decir, cuántas de las predicciones positivas son realmente correctas. Los resultados obtenidos para esta métrica son sustancialmente menores, con resultados que varían entre 0.7 y 0. \n",
        "\n",
        "El recall muestra qué tan sensible es el modelo para detectar a los jugadores seleccionados, es decir, cuántos de los jugadores seleccionados se clasifican correctamente. Esta es la métrica con peor desempeño, con valores que van entre 0 y 0.33. \n",
        "\n",
        "Estos resultados coinciden con lo esperado teóricamente, dado que la clase Seleccionado es minoritaria, por lo que los clasificadores están sesgados a clasificar los datos en la otra clase.\n",
        "\n",
        "El modelo con mejores resultados en Linear SVC, con resultados de 0.70, 0.33 y 0.95 para los valores de precision, recall y accuracy respectivamente. Luego viene K-Neighbors Classifier con 0.47, 0.15 y 0.94, respectivamente. Finalmente está Random Forest con métricas de 0, 0 y 0.94 respectivamente. De estos resultado se observa que Linear SVC es el modelo que mejor se adecua a estos datos, al obtener los mejores resultados para la clase negariva. \n",
        "\n",
        "\n"
      ],
      "metadata": {
        "id": "tHq41-SA1hSn"
      }
    },
    {
      "cell_type": "markdown",
      "source": [
        "**¿Podrían mejorarse los resultados?, ¿Cómo?**\n",
        "\n",
        "Los resultados pueden ser mejorables buscando balancear las clases que es el principal problema que tiene este dataset. Para ello se pueden utilizar técnicas como undersampling y oversampling. Además, se podrían optimizar los hiperparámetros de los modelos, utilizando GridSearch. Por otro lado, se podría evaluar la posibilidad de incorporar datos adicionales a la clase minoritaria. Otra solución sería alterar el peso que tiene cada clase en el entrenamiento\n"
      ],
      "metadata": {
        "id": "ERi-MAnY1jFv"
      }
    },
    {
      "cell_type": "markdown",
      "source": [
        "**¿Influye la cantidad de ejemplos por clase?**\n",
        "\n",
        "De acuerdo a lo mencionado anteriormente, el desbalance de las clases induce sesgos en el modelo, favoreciendo que este clasifique los datos en la clase predominante sin importar sus características. "
      ],
      "metadata": {
        "id": "GSHzwgcb39oZ"
      }
    },
    {
      "cell_type": "markdown",
      "source": [
        "## 1.2 Predicción de posiciones de jugadores [2 puntos]"
      ],
      "metadata": {
        "id": "-kCfIx7b5u7X"
      }
    },
    {
      "cell_type": "markdown",
      "source": [
        "<p align=\"center\">\n",
        "  <img src=\"https://pbs.twimg.com/media/E1rfA1aWEAYU6Ny.jpg\" width=\"500\">\n",
        "</p>"
      ],
      "metadata": {
        "id": "ix97Ho4uOARH",
        "cell_id": "5aa0cc14dba04749ad3bc07a92d351d2",
        "deepnote_cell_type": "markdown"
      }
    },
    {
      "cell_type": "markdown",
      "source": [
        "En una nueva jornada de desmesuradas transacciones deportivas, Renacín escuchó a sus colegas discutir acerca de que el precio de cada jugador depende en gran medida de la posición en la cancha en la que juega. Y además, que hay bastantes jugadores nuevos que no tienen muy claro en que posición verdaderamente brillarían, por lo que actualmente puede que actualmente estén jugando en posiciones sub-optimas. \n",
        "\n",
        "Viendo que los resultados del primer análisis no son tan esperanzadores, el corporeo los comanda a cambiar su tarea: ahora, les solicita que construyan un clasificador enfocado en predecir la mejor posición de los jugadores en la cancha según sus características. \n",
        "\n",
        "Para lograr esto, primero, les pide que etiqueten de la siguiente manera los valores que aparecen en el atributo ```Club_Position```, pidiendo que agrupen los valores en los siguientes grupos:\n",
        "\n",
        "**Nota**:  Renacín les recalca que **no deben utilizar los valores ```Sub``` y ```Res``` de esta columna**.\n",
        "\n",
        "```python\n",
        "ataque = ['ST', 'CF'] \n",
        "central_ataque = ['RW', 'CAM', 'LW'] \n",
        "central = ['RM', 'CM', 'LM'] \n",
        "central_defensa = ['RWB', 'CDM', 'LWB']\n",
        "defensa = ['RB', 'CB', 'LB']\n",
        "arquero = ['GK']\n",
        "```\n",
        "\n",
        "Cabe señalar que al igual como lo realizado con la clasificación binaria, deberá justificar en base a la [guía](https://scikit-learn.org/stable/tutorial/machine_learning_map/index.html) la elección del clasificador y se deben comentar los resultados obtenidos en la clasificación.\n",
        "\n",
        "**Nota:** Clasifique solamente con las clases señaladas, si observa mas clases eliminelas de la clasficación.\n",
        "\n",
        "**To-Do**:\n",
        "\n",
        "- [ ] Aplique las etiquetas descritas anteriormente en cada uno de los valores señalados en esta sección.\n",
        "- [ ] Cuente cuantos por clase quedan.\n",
        "- [ ] Entrene el nuevo pipeline y ejecute una evaluación de este.  \n",
        "- [ ] Comente los resultados obtenidos."
      ],
      "metadata": {
        "id": "oHAwZfV8hMsk",
        "cell_id": "6cd2eee12b6147bc8eba66af43a1f1f7",
        "deepnote_cell_type": "markdown"
      }
    },
    {
      "cell_type": "markdown",
      "source": [
        "**Respuesta:**"
      ],
      "metadata": {
        "tags": [],
        "cell_id": "71cd4b2ee5a74b96aa2dd4e1da166655",
        "deepnote_cell_type": "markdown",
        "id": "oD50dJ1iuqX2"
      }
    },
    {
      "cell_type": "code",
      "source": [
        "# Se copia el dataset\n",
        "df = df_players.copy()\n",
        "\n",
        "# Se reemplazan los valores de Club_Position\n",
        "df['Club_Position'].replace(['ST', 'CF'] , 'ataque', inplace=True)\n",
        "df['Club_Position'].replace(['RW', 'CAM', 'LW'] , 'central_ataque', \n",
        "                            inplace=True)\n",
        "df['Club_Position'].replace(['RM', 'CM', 'LM']  , 'central', inplace=True)\n",
        "df['Club_Position'].replace(['RWB', 'CDM', 'LWB']  , 'central_defensa', \n",
        "                                    inplace=True)\n",
        "df['Club_Position'].replace(['RB', 'CB', 'LB']  , 'defensa', inplace=True)\n",
        "df['Club_Position'].replace(['GK']  , 'arquero', inplace=True)\n",
        "\n",
        "# Se filtra el dataset para descartar Sub y Res\n",
        "df = df[df['Club_Position'].isin(['ataque', 'central_ataque', 'central', \n",
        "                                  'central_defensa', 'defensa', 'arquero'])]"
      ],
      "metadata": {
        "tags": [],
        "cell_id": "e54c0311c11e47cf917f4c7ec61370bc",
        "deepnote_cell_type": "code",
        "id": "rfzAiGj2uqX3"
      },
      "outputs": [],
      "execution_count": 12
    },
    {
      "cell_type": "code",
      "source": [
        "# Cantidad de jugadores por clase\n",
        "df['Club_Position'].value_counts()"
      ],
      "metadata": {
        "colab": {
          "base_uri": "https://localhost:8080/"
        },
        "id": "l5-vxP6W7JXA",
        "outputId": "b68453f2-a6ce-4d0e-caf1-9de90852d559"
      },
      "execution_count": 13,
      "outputs": [
        {
          "output_type": "execute_result",
          "data": {
            "text/plain": [
              "defensa            1180\n",
              "central             907\n",
              "arquero             632\n",
              "central_ataque      581\n",
              "ataque              430\n",
              "central_defensa     209\n",
              "Name: Club_Position, dtype: int64"
            ]
          },
          "metadata": {},
          "execution_count": 13
        }
      ]
    },
    {
      "cell_type": "markdown",
      "source": [
        "Nuevamente se puede observar un desbalance entre las clases, donde se tiene que 'defensa' es por lejos más grande que 'central_defensa', que es la clase con la menor cantidad de ejemplos."
      ],
      "metadata": {
        "id": "UY0aUYPo9H9W"
      }
    },
    {
      "cell_type": "code",
      "source": [
        "# Datos Categóricos (Se omite la variable Name ya que se considera que no aporta \n",
        "# para la clasificación)\n",
        "cat_cols_2 = ['Nationality', 'Preffered_Foot', 'Work_Rate']\n",
        "cat_transformer_2 = OneHotEncoder(handle_unknown='ignore', sparse=False)\n",
        "\n",
        "# Datos numéricos\n",
        "num_cols_2 = ['Height', 'Weight', 'Age', 'Weak_foot',\n",
        "       'Skill_Moves', 'Ball_Control', 'Dribbling', 'Marking', 'Sliding_Tackle',\n",
        "       'Standing_Tackle', 'Aggression', 'Reactions', 'Interceptions', 'Vision',\n",
        "       'Composure', 'Crossing', 'Short_Pass', 'Long_Pass', 'Acceleration',\n",
        "       'Speed', 'Stamina', 'Strength', 'Balance', 'Agility', 'Jumping',\n",
        "       'Heading', 'Shot_Power', 'Finishing', 'Long_Shots', 'Curve',\n",
        "       'Freekick_Accuracy', 'Penalties', 'Volleys']\n",
        "num_transformer_2 = MinMaxScaler()\n",
        "\n",
        "# ColumnTransformer\n",
        "preprocessor_2 = ColumnTransformer(\n",
        "    transformers=[('cat', cat_transformer_2, cat_cols_2),\n",
        "        ('num', num_transformer_2, num_cols_2)],\n",
        "    remainder='passthrough', \n",
        "    sparse_threshold = 0)"
      ],
      "metadata": {
        "id": "2F6sBvah8Sxj"
      },
      "execution_count": 14,
      "outputs": []
    },
    {
      "cell_type": "code",
      "source": [
        "# Pipeline\n",
        "pipeline_lsvc_2 = Pipeline(steps=[('preprocessor', preprocessor_2), \n",
        " ('linearsvc', LinearSVC(random_state=0))])\n",
        "\n",
        "pipeline_knc_2 = Pipeline(steps=[('preprocessor', preprocessor_2), \n",
        " ('knc', KNeighborsClassifier(n_neighbors=3))])\n",
        "\n",
        "pipeline_rf_2 = Pipeline(steps=[('preprocessor', preprocessor_2), \n",
        " ('rf', RandomForestClassifier(max_depth=2, random_state=0))])"
      ],
      "metadata": {
        "id": "JXAzmhhi7b_H"
      },
      "execution_count": 15,
      "outputs": []
    },
    {
      "cell_type": "code",
      "source": [
        "# Separación del dataset\n",
        "X_2 = df[['Nationality', 'Height',\n",
        "       'Weight', 'Preffered_Foot', 'Age', 'Work_Rate', 'Weak_foot',\n",
        "       'Skill_Moves', 'Ball_Control', 'Dribbling', 'Marking', 'Sliding_Tackle',\n",
        "       'Standing_Tackle', 'Aggression', 'Reactions', 'Interceptions', 'Vision',\n",
        "       'Composure', 'Crossing', 'Short_Pass', 'Long_Pass', 'Acceleration',\n",
        "       'Speed', 'Stamina', 'Strength', 'Balance', 'Agility', 'Jumping',\n",
        "       'Heading', 'Shot_Power', 'Finishing', 'Long_Shots', 'Curve',\n",
        "       'Freekick_Accuracy', 'Penalties', 'Volleys']]\n",
        "\n",
        "y_2 = df['Club_Position']\n",
        "\n",
        "X_train_2, X_test_2, y_train_2, y_test_2 = train_test_split(X_2, y_2, stratify=y_2, \n",
        "                                                    test_size=0.3, random_state=1)"
      ],
      "metadata": {
        "id": "Q7j4W89W7wAT"
      },
      "execution_count": 16,
      "outputs": []
    },
    {
      "cell_type": "code",
      "source": [
        "# Entrenamiento y métricas de evaluación\n",
        "pipeline_lsvc_2.fit(X_train_2, y_train_2)\n",
        "y_pred_lsvc_2 = pipeline_lsvc_2.predict(X_test_2)\n",
        "print(classification_report(y_test_2, y_pred_lsvc_2))"
      ],
      "metadata": {
        "colab": {
          "base_uri": "https://localhost:8080/"
        },
        "id": "0UEiMAAu8o_l",
        "outputId": "33a0dd73-dffd-4638-d969-ae752f656053"
      },
      "execution_count": 17,
      "outputs": [
        {
          "output_type": "stream",
          "name": "stderr",
          "text": [
            "/usr/local/lib/python3.10/dist-packages/sklearn/preprocessing/_encoders.py:868: FutureWarning: `sparse` was renamed to `sparse_output` in version 1.2 and will be removed in 1.4. `sparse_output` is ignored unless you leave `sparse` to its default value.\n",
            "  warnings.warn(\n"
          ]
        },
        {
          "output_type": "stream",
          "name": "stdout",
          "text": [
            "                 precision    recall  f1-score   support\n",
            "\n",
            "        arquero       1.00      0.99      1.00       190\n",
            "         ataque       0.78      0.87      0.82       129\n",
            "        central       0.55      0.58      0.57       272\n",
            " central_ataque       0.43      0.30      0.35       174\n",
            "central_defensa       0.62      0.21      0.31        63\n",
            "        defensa       0.80      0.95      0.87       354\n",
            "\n",
            "       accuracy                           0.73      1182\n",
            "      macro avg       0.70      0.65      0.65      1182\n",
            "   weighted avg       0.71      0.73      0.71      1182\n",
            "\n"
          ]
        }
      ]
    },
    {
      "cell_type": "code",
      "source": [
        "# Entrenamiento y métricas de evaluación\n",
        "pipeline_knc_2.fit(X_train_2, y_train_2)\n",
        "y_pred_knc_2 = pipeline_knc_2.predict(X_test_2)\n",
        "print(classification_report(y_test_2, y_pred_knc_2))"
      ],
      "metadata": {
        "colab": {
          "base_uri": "https://localhost:8080/"
        },
        "id": "EpB3cr_t8vJb",
        "outputId": "6bf2810d-ca37-4060-e297-ae26bd55a1ce"
      },
      "execution_count": 18,
      "outputs": [
        {
          "output_type": "stream",
          "name": "stderr",
          "text": [
            "/usr/local/lib/python3.10/dist-packages/sklearn/preprocessing/_encoders.py:868: FutureWarning: `sparse` was renamed to `sparse_output` in version 1.2 and will be removed in 1.4. `sparse_output` is ignored unless you leave `sparse` to its default value.\n",
            "  warnings.warn(\n"
          ]
        },
        {
          "output_type": "stream",
          "name": "stdout",
          "text": [
            "                 precision    recall  f1-score   support\n",
            "\n",
            "        arquero       1.00      0.99      1.00       190\n",
            "         ataque       0.48      0.55      0.51       129\n",
            "        central       0.40      0.46      0.43       272\n",
            " central_ataque       0.38      0.29      0.33       174\n",
            "central_defensa       0.29      0.13      0.18        63\n",
            "        defensa       0.72      0.76      0.74       354\n",
            "\n",
            "       accuracy                           0.60      1182\n",
            "      macro avg       0.54      0.53      0.53      1182\n",
            "   weighted avg       0.59      0.60      0.59      1182\n",
            "\n"
          ]
        }
      ]
    },
    {
      "cell_type": "code",
      "source": [
        "# Entrenamiento y métricas de evaluación\n",
        "pipeline_rf_2.fit(X_train_2, y_train_2)\n",
        "y_pred_rf_2 = pipeline_rf_2.predict(X_test_2)\n",
        "print(classification_report(y_test_2, y_pred_rf_2))"
      ],
      "metadata": {
        "colab": {
          "base_uri": "https://localhost:8080/"
        },
        "id": "tVydanoA8vyD",
        "outputId": "198b8cc0-6f33-4a8f-b23e-2a04567b2867"
      },
      "execution_count": 19,
      "outputs": [
        {
          "output_type": "stream",
          "name": "stderr",
          "text": [
            "/usr/local/lib/python3.10/dist-packages/sklearn/preprocessing/_encoders.py:868: FutureWarning: `sparse` was renamed to `sparse_output` in version 1.2 and will be removed in 1.4. `sparse_output` is ignored unless you leave `sparse` to its default value.\n",
            "  warnings.warn(\n"
          ]
        },
        {
          "output_type": "stream",
          "name": "stdout",
          "text": [
            "                 precision    recall  f1-score   support\n",
            "\n",
            "        arquero       1.00      1.00      1.00       190\n",
            "         ataque       0.00      0.00      0.00       129\n",
            "        central       0.42      0.73      0.53       272\n",
            " central_ataque       0.00      0.00      0.00       174\n",
            "central_defensa       0.00      0.00      0.00        63\n",
            "        defensa       0.68      0.99      0.81       354\n",
            "\n",
            "       accuracy                           0.63      1182\n",
            "      macro avg       0.35      0.45      0.39      1182\n",
            "   weighted avg       0.46      0.63      0.53      1182\n",
            "\n"
          ]
        },
        {
          "output_type": "stream",
          "name": "stderr",
          "text": [
            "/usr/local/lib/python3.10/dist-packages/sklearn/metrics/_classification.py:1344: UndefinedMetricWarning: Precision and F-score are ill-defined and being set to 0.0 in labels with no predicted samples. Use `zero_division` parameter to control this behavior.\n",
            "  _warn_prf(average, modifier, msg_start, len(result))\n",
            "/usr/local/lib/python3.10/dist-packages/sklearn/metrics/_classification.py:1344: UndefinedMetricWarning: Precision and F-score are ill-defined and being set to 0.0 in labels with no predicted samples. Use `zero_division` parameter to control this behavior.\n",
            "  _warn_prf(average, modifier, msg_start, len(result))\n",
            "/usr/local/lib/python3.10/dist-packages/sklearn/metrics/_classification.py:1344: UndefinedMetricWarning: Precision and F-score are ill-defined and being set to 0.0 in labels with no predicted samples. Use `zero_division` parameter to control this behavior.\n",
            "  _warn_prf(average, modifier, msg_start, len(result))\n"
          ]
        }
      ]
    },
    {
      "cell_type": "markdown",
      "source": [
        "Se puede observar que en todos los modelos la clase 'arquero' fue predicha completamente correcta, mientras que 'central_defensa' es la que obtuvo peores resultados. Esto se puede relacionar con la baja cantidad de ejemplos que presentaba la clase central defensa. Con respecto a la clase \"arquero\" se comenta que obtiene métricas perfectas, lo cual indica que los modelos están sobre-ajustados.\n",
        "\n",
        "De los modelos se comenta que Random Forest vuelve a tener los peores resultados y Linear SVC los mejores resultados. \n",
        "\n",
        "Igual que el caso anterior, los resultados podrían mejorarse si se aplican técnicas de balanceo de clases y optimización de hiperparámetros de los modelos."
      ],
      "metadata": {
        "id": "UX2xq1dQ8-Uq"
      }
    },
    {
      "cell_type": "markdown",
      "source": [
        "## 1.3 Predicción de Sueldos [2 puntos]"
      ],
      "metadata": {
        "id": "VHm_xOUHM9p1"
      }
    },
    {
      "cell_type": "markdown",
      "source": [
        "<p align=\"center\">\n",
        "  <img src=\"https://media.giphy.com/media/3oEjHWtHAFcOKS4iA0/giphy.gif\" width=\"460\">\n",
        "</p>"
      ],
      "metadata": {
        "id": "C-vkB4xoOGtM",
        "cell_id": "f8008fda06be4d8ab7564d7362151a14",
        "deepnote_cell_type": "markdown"
      }
    },
    {
      "cell_type": "markdown",
      "source": [
        "Queriendo ahondar aún más en el mercado del balompíe, Renacin, logra obtener (de una manera no muy formal) los sueldos de múltiples futbolistas y los guarda en el archivo ```sueldos.csv```. Con ellos les solicita que generen un regresor que les permita predecir el sueldo de los futbolistas en base a las características de los pichichis, esto, debido a su motivación por invertir y/o realizar especulación sobre los sueldos de jugadores.\n",
        "\n",
        "Renacin es claro señalando que deben seguir utilizando la [guía](https://scikit-learn.org/stable/tutorial/machine_learning_map/index.html) y comenten cada uno de los pasos realizados, para obtener su regresión lineal. Señalándoles que no aceptara un $R^2$ inferior a 0.35 para el modelo solicitado.\n",
        "\n",
        "Para esta parte usted tiene total libertad en la generación del regresor, la unica exigencia es que utilice un pipeline para generar la regresión y utilice la metrica $R^2$ para medir el rendimiento de esta.\n",
        "\n",
        "**To-Do**:\n",
        "\n",
        "- [ ] Explique en que consiste la métrica $R^2$\n",
        "- [ ] Generar un pipeline para la regresión.\n",
        "- [ ] Obtener un regresor con un $R^2$ superior a  $0.35$.\n",
        "- [ ] Comente sus resultados y si es posible mejorar los resultados obtenidos. ¿Se necesitarían más datos o otros tipos de características o una combinación de ambos?"
      ],
      "metadata": {
        "tags": [],
        "cell_id": "598c8a91d80c412091470f396af54b5f",
        "deepnote_cell_type": "markdown",
        "id": "ZUFNeVrKuqX4"
      }
    },
    {
      "cell_type": "markdown",
      "source": [
        "**Respuesta**"
      ],
      "metadata": {
        "tags": [],
        "cell_id": "5ce70aab37cb4924b1543eeab84e7de4",
        "deepnote_cell_type": "markdown",
        "id": "_r7Ik5tvuqX4"
      }
    },
    {
      "cell_type": "code",
      "source": [
        "# Se carga el dataset\n",
        "df_salaries = pd.read_csv('/content/drive/MyDrive/salarios.csv', index_col = 0)\n",
        "df_salaries.head()"
      ],
      "metadata": {
        "tags": [],
        "cell_id": "96e8db5c5a7044b79966da981618c807",
        "deepnote_cell_type": "code",
        "id": "ANvrFTThuqX4",
        "colab": {
          "base_uri": "https://localhost:8080/",
          "height": 206
        },
        "outputId": "39bca7ea-d810-4f85-8e4c-512cbd6c22d5"
      },
      "outputs": [
        {
          "output_type": "execute_result",
          "data": {
            "text/plain": [
              "                 Player  Weekly Salary\n",
              "1528       Lionel Messi      1538905.0\n",
              "1006  Cristiano Ronaldo      1248536.0\n",
              "1529  Antoine Griezmann       997032.0\n",
              "2004             Neymar       797726.0\n",
              "1530        Gareth Bale       607706.0"
            ],
            "text/html": [
              "\n",
              "  <div id=\"df-ada9e92b-cdd9-4e37-9c25-02e6ed5862b7\">\n",
              "    <div class=\"colab-df-container\">\n",
              "      <div>\n",
              "<style scoped>\n",
              "    .dataframe tbody tr th:only-of-type {\n",
              "        vertical-align: middle;\n",
              "    }\n",
              "\n",
              "    .dataframe tbody tr th {\n",
              "        vertical-align: top;\n",
              "    }\n",
              "\n",
              "    .dataframe thead th {\n",
              "        text-align: right;\n",
              "    }\n",
              "</style>\n",
              "<table border=\"1\" class=\"dataframe\">\n",
              "  <thead>\n",
              "    <tr style=\"text-align: right;\">\n",
              "      <th></th>\n",
              "      <th>Player</th>\n",
              "      <th>Weekly Salary</th>\n",
              "    </tr>\n",
              "  </thead>\n",
              "  <tbody>\n",
              "    <tr>\n",
              "      <th>1528</th>\n",
              "      <td>Lionel Messi</td>\n",
              "      <td>1538905.0</td>\n",
              "    </tr>\n",
              "    <tr>\n",
              "      <th>1006</th>\n",
              "      <td>Cristiano Ronaldo</td>\n",
              "      <td>1248536.0</td>\n",
              "    </tr>\n",
              "    <tr>\n",
              "      <th>1529</th>\n",
              "      <td>Antoine Griezmann</td>\n",
              "      <td>997032.0</td>\n",
              "    </tr>\n",
              "    <tr>\n",
              "      <th>2004</th>\n",
              "      <td>Neymar</td>\n",
              "      <td>797726.0</td>\n",
              "    </tr>\n",
              "    <tr>\n",
              "      <th>1530</th>\n",
              "      <td>Gareth Bale</td>\n",
              "      <td>607706.0</td>\n",
              "    </tr>\n",
              "  </tbody>\n",
              "</table>\n",
              "</div>\n",
              "      <button class=\"colab-df-convert\" onclick=\"convertToInteractive('df-ada9e92b-cdd9-4e37-9c25-02e6ed5862b7')\"\n",
              "              title=\"Convert this dataframe to an interactive table.\"\n",
              "              style=\"display:none;\">\n",
              "        \n",
              "  <svg xmlns=\"http://www.w3.org/2000/svg\" height=\"24px\"viewBox=\"0 0 24 24\"\n",
              "       width=\"24px\">\n",
              "    <path d=\"M0 0h24v24H0V0z\" fill=\"none\"/>\n",
              "    <path d=\"M18.56 5.44l.94 2.06.94-2.06 2.06-.94-2.06-.94-.94-2.06-.94 2.06-2.06.94zm-11 1L8.5 8.5l.94-2.06 2.06-.94-2.06-.94L8.5 2.5l-.94 2.06-2.06.94zm10 10l.94 2.06.94-2.06 2.06-.94-2.06-.94-.94-2.06-.94 2.06-2.06.94z\"/><path d=\"M17.41 7.96l-1.37-1.37c-.4-.4-.92-.59-1.43-.59-.52 0-1.04.2-1.43.59L10.3 9.45l-7.72 7.72c-.78.78-.78 2.05 0 2.83L4 21.41c.39.39.9.59 1.41.59.51 0 1.02-.2 1.41-.59l7.78-7.78 2.81-2.81c.8-.78.8-2.07 0-2.86zM5.41 20L4 18.59l7.72-7.72 1.47 1.35L5.41 20z\"/>\n",
              "  </svg>\n",
              "      </button>\n",
              "      \n",
              "  <style>\n",
              "    .colab-df-container {\n",
              "      display:flex;\n",
              "      flex-wrap:wrap;\n",
              "      gap: 12px;\n",
              "    }\n",
              "\n",
              "    .colab-df-convert {\n",
              "      background-color: #E8F0FE;\n",
              "      border: none;\n",
              "      border-radius: 50%;\n",
              "      cursor: pointer;\n",
              "      display: none;\n",
              "      fill: #1967D2;\n",
              "      height: 32px;\n",
              "      padding: 0 0 0 0;\n",
              "      width: 32px;\n",
              "    }\n",
              "\n",
              "    .colab-df-convert:hover {\n",
              "      background-color: #E2EBFA;\n",
              "      box-shadow: 0px 1px 2px rgba(60, 64, 67, 0.3), 0px 1px 3px 1px rgba(60, 64, 67, 0.15);\n",
              "      fill: #174EA6;\n",
              "    }\n",
              "\n",
              "    [theme=dark] .colab-df-convert {\n",
              "      background-color: #3B4455;\n",
              "      fill: #D2E3FC;\n",
              "    }\n",
              "\n",
              "    [theme=dark] .colab-df-convert:hover {\n",
              "      background-color: #434B5C;\n",
              "      box-shadow: 0px 1px 3px 1px rgba(0, 0, 0, 0.15);\n",
              "      filter: drop-shadow(0px 1px 2px rgba(0, 0, 0, 0.3));\n",
              "      fill: #FFFFFF;\n",
              "    }\n",
              "  </style>\n",
              "\n",
              "      <script>\n",
              "        const buttonEl =\n",
              "          document.querySelector('#df-ada9e92b-cdd9-4e37-9c25-02e6ed5862b7 button.colab-df-convert');\n",
              "        buttonEl.style.display =\n",
              "          google.colab.kernel.accessAllowed ? 'block' : 'none';\n",
              "\n",
              "        async function convertToInteractive(key) {\n",
              "          const element = document.querySelector('#df-ada9e92b-cdd9-4e37-9c25-02e6ed5862b7');\n",
              "          const dataTable =\n",
              "            await google.colab.kernel.invokeFunction('convertToInteractive',\n",
              "                                                     [key], {});\n",
              "          if (!dataTable) return;\n",
              "\n",
              "          const docLinkHtml = 'Like what you see? Visit the ' +\n",
              "            '<a target=\"_blank\" href=https://colab.research.google.com/notebooks/data_table.ipynb>data table notebook</a>'\n",
              "            + ' to learn more about interactive tables.';\n",
              "          element.innerHTML = '';\n",
              "          dataTable['output_type'] = 'display_data';\n",
              "          await google.colab.output.renderOutput(dataTable, element);\n",
              "          const docLink = document.createElement('div');\n",
              "          docLink.innerHTML = docLinkHtml;\n",
              "          element.appendChild(docLink);\n",
              "        }\n",
              "      </script>\n",
              "    </div>\n",
              "  </div>\n",
              "  "
            ]
          },
          "metadata": {},
          "execution_count": 20
        }
      ],
      "execution_count": 20
    },
    {
      "cell_type": "code",
      "source": [
        "# Se unen los dataset\n",
        "df_3 = df_players.copy()\n",
        "df_3 = df_3.merge(df_salaries, left_on = 'Name', right_on = 'Player', how = 'inner')\n",
        "df_3.head()"
      ],
      "metadata": {
        "colab": {
          "base_uri": "https://localhost:8080/",
          "height": 403
        },
        "id": "fanzQRLjBFJY",
        "outputId": "311f0262-8986-4071-8806-ccfbacc5e4e1"
      },
      "execution_count": 21,
      "outputs": [
        {
          "output_type": "execute_result",
          "data": {
            "text/plain": [
              "                Name Nationality  National_Position Club_Position  Height  \\\n",
              "0  Cristiano Ronaldo    Portugal                  1            LW     185   \n",
              "1       Lionel Messi   Argentina                  1            RW     170   \n",
              "2             Neymar      Brazil                  1            LW     174   \n",
              "3        Luis Suárez     Uruguay                  1            ST     182   \n",
              "4       Manuel Neuer     Germany                  1            GK     193   \n",
              "\n",
              "   Weight Preffered_Foot  Age        Work_Rate  Weak_foot  ...  Heading  \\\n",
              "0      80          Right   32       High / Low          4  ...       85   \n",
              "1      72           Left   29  Medium / Medium          4  ...       71   \n",
              "2      68          Right   25    High / Medium          5  ...       62   \n",
              "3      85          Right   30    High / Medium          4  ...       77   \n",
              "4      92          Right   31  Medium / Medium          4  ...       25   \n",
              "\n",
              "   Shot_Power  Finishing  Long_Shots  Curve  Freekick_Accuracy  Penalties  \\\n",
              "0          92         93          90     81                 76         85   \n",
              "1          85         95          88     89                 90         74   \n",
              "2          78         89          77     79                 84         81   \n",
              "3          87         94          86     86                 84         85   \n",
              "4          25         13          16     14                 11         47   \n",
              "\n",
              "   Volleys             Player  Weekly Salary  \n",
              "0       88  Cristiano Ronaldo      1248536.0  \n",
              "1       85       Lionel Messi      1538905.0  \n",
              "2       83             Neymar       797726.0  \n",
              "3       88        Luis Suárez       508923.0  \n",
              "4       11       Manuel Neuer       326233.0  \n",
              "\n",
              "[5 rows x 41 columns]"
            ],
            "text/html": [
              "\n",
              "  <div id=\"df-6612bbfd-614f-4b34-9727-215db34d96c9\">\n",
              "    <div class=\"colab-df-container\">\n",
              "      <div>\n",
              "<style scoped>\n",
              "    .dataframe tbody tr th:only-of-type {\n",
              "        vertical-align: middle;\n",
              "    }\n",
              "\n",
              "    .dataframe tbody tr th {\n",
              "        vertical-align: top;\n",
              "    }\n",
              "\n",
              "    .dataframe thead th {\n",
              "        text-align: right;\n",
              "    }\n",
              "</style>\n",
              "<table border=\"1\" class=\"dataframe\">\n",
              "  <thead>\n",
              "    <tr style=\"text-align: right;\">\n",
              "      <th></th>\n",
              "      <th>Name</th>\n",
              "      <th>Nationality</th>\n",
              "      <th>National_Position</th>\n",
              "      <th>Club_Position</th>\n",
              "      <th>Height</th>\n",
              "      <th>Weight</th>\n",
              "      <th>Preffered_Foot</th>\n",
              "      <th>Age</th>\n",
              "      <th>Work_Rate</th>\n",
              "      <th>Weak_foot</th>\n",
              "      <th>...</th>\n",
              "      <th>Heading</th>\n",
              "      <th>Shot_Power</th>\n",
              "      <th>Finishing</th>\n",
              "      <th>Long_Shots</th>\n",
              "      <th>Curve</th>\n",
              "      <th>Freekick_Accuracy</th>\n",
              "      <th>Penalties</th>\n",
              "      <th>Volleys</th>\n",
              "      <th>Player</th>\n",
              "      <th>Weekly Salary</th>\n",
              "    </tr>\n",
              "  </thead>\n",
              "  <tbody>\n",
              "    <tr>\n",
              "      <th>0</th>\n",
              "      <td>Cristiano Ronaldo</td>\n",
              "      <td>Portugal</td>\n",
              "      <td>1</td>\n",
              "      <td>LW</td>\n",
              "      <td>185</td>\n",
              "      <td>80</td>\n",
              "      <td>Right</td>\n",
              "      <td>32</td>\n",
              "      <td>High / Low</td>\n",
              "      <td>4</td>\n",
              "      <td>...</td>\n",
              "      <td>85</td>\n",
              "      <td>92</td>\n",
              "      <td>93</td>\n",
              "      <td>90</td>\n",
              "      <td>81</td>\n",
              "      <td>76</td>\n",
              "      <td>85</td>\n",
              "      <td>88</td>\n",
              "      <td>Cristiano Ronaldo</td>\n",
              "      <td>1248536.0</td>\n",
              "    </tr>\n",
              "    <tr>\n",
              "      <th>1</th>\n",
              "      <td>Lionel Messi</td>\n",
              "      <td>Argentina</td>\n",
              "      <td>1</td>\n",
              "      <td>RW</td>\n",
              "      <td>170</td>\n",
              "      <td>72</td>\n",
              "      <td>Left</td>\n",
              "      <td>29</td>\n",
              "      <td>Medium / Medium</td>\n",
              "      <td>4</td>\n",
              "      <td>...</td>\n",
              "      <td>71</td>\n",
              "      <td>85</td>\n",
              "      <td>95</td>\n",
              "      <td>88</td>\n",
              "      <td>89</td>\n",
              "      <td>90</td>\n",
              "      <td>74</td>\n",
              "      <td>85</td>\n",
              "      <td>Lionel Messi</td>\n",
              "      <td>1538905.0</td>\n",
              "    </tr>\n",
              "    <tr>\n",
              "      <th>2</th>\n",
              "      <td>Neymar</td>\n",
              "      <td>Brazil</td>\n",
              "      <td>1</td>\n",
              "      <td>LW</td>\n",
              "      <td>174</td>\n",
              "      <td>68</td>\n",
              "      <td>Right</td>\n",
              "      <td>25</td>\n",
              "      <td>High / Medium</td>\n",
              "      <td>5</td>\n",
              "      <td>...</td>\n",
              "      <td>62</td>\n",
              "      <td>78</td>\n",
              "      <td>89</td>\n",
              "      <td>77</td>\n",
              "      <td>79</td>\n",
              "      <td>84</td>\n",
              "      <td>81</td>\n",
              "      <td>83</td>\n",
              "      <td>Neymar</td>\n",
              "      <td>797726.0</td>\n",
              "    </tr>\n",
              "    <tr>\n",
              "      <th>3</th>\n",
              "      <td>Luis Suárez</td>\n",
              "      <td>Uruguay</td>\n",
              "      <td>1</td>\n",
              "      <td>ST</td>\n",
              "      <td>182</td>\n",
              "      <td>85</td>\n",
              "      <td>Right</td>\n",
              "      <td>30</td>\n",
              "      <td>High / Medium</td>\n",
              "      <td>4</td>\n",
              "      <td>...</td>\n",
              "      <td>77</td>\n",
              "      <td>87</td>\n",
              "      <td>94</td>\n",
              "      <td>86</td>\n",
              "      <td>86</td>\n",
              "      <td>84</td>\n",
              "      <td>85</td>\n",
              "      <td>88</td>\n",
              "      <td>Luis Suárez</td>\n",
              "      <td>508923.0</td>\n",
              "    </tr>\n",
              "    <tr>\n",
              "      <th>4</th>\n",
              "      <td>Manuel Neuer</td>\n",
              "      <td>Germany</td>\n",
              "      <td>1</td>\n",
              "      <td>GK</td>\n",
              "      <td>193</td>\n",
              "      <td>92</td>\n",
              "      <td>Right</td>\n",
              "      <td>31</td>\n",
              "      <td>Medium / Medium</td>\n",
              "      <td>4</td>\n",
              "      <td>...</td>\n",
              "      <td>25</td>\n",
              "      <td>25</td>\n",
              "      <td>13</td>\n",
              "      <td>16</td>\n",
              "      <td>14</td>\n",
              "      <td>11</td>\n",
              "      <td>47</td>\n",
              "      <td>11</td>\n",
              "      <td>Manuel Neuer</td>\n",
              "      <td>326233.0</td>\n",
              "    </tr>\n",
              "  </tbody>\n",
              "</table>\n",
              "<p>5 rows × 41 columns</p>\n",
              "</div>\n",
              "      <button class=\"colab-df-convert\" onclick=\"convertToInteractive('df-6612bbfd-614f-4b34-9727-215db34d96c9')\"\n",
              "              title=\"Convert this dataframe to an interactive table.\"\n",
              "              style=\"display:none;\">\n",
              "        \n",
              "  <svg xmlns=\"http://www.w3.org/2000/svg\" height=\"24px\"viewBox=\"0 0 24 24\"\n",
              "       width=\"24px\">\n",
              "    <path d=\"M0 0h24v24H0V0z\" fill=\"none\"/>\n",
              "    <path d=\"M18.56 5.44l.94 2.06.94-2.06 2.06-.94-2.06-.94-.94-2.06-.94 2.06-2.06.94zm-11 1L8.5 8.5l.94-2.06 2.06-.94-2.06-.94L8.5 2.5l-.94 2.06-2.06.94zm10 10l.94 2.06.94-2.06 2.06-.94-2.06-.94-.94-2.06-.94 2.06-2.06.94z\"/><path d=\"M17.41 7.96l-1.37-1.37c-.4-.4-.92-.59-1.43-.59-.52 0-1.04.2-1.43.59L10.3 9.45l-7.72 7.72c-.78.78-.78 2.05 0 2.83L4 21.41c.39.39.9.59 1.41.59.51 0 1.02-.2 1.41-.59l7.78-7.78 2.81-2.81c.8-.78.8-2.07 0-2.86zM5.41 20L4 18.59l7.72-7.72 1.47 1.35L5.41 20z\"/>\n",
              "  </svg>\n",
              "      </button>\n",
              "      \n",
              "  <style>\n",
              "    .colab-df-container {\n",
              "      display:flex;\n",
              "      flex-wrap:wrap;\n",
              "      gap: 12px;\n",
              "    }\n",
              "\n",
              "    .colab-df-convert {\n",
              "      background-color: #E8F0FE;\n",
              "      border: none;\n",
              "      border-radius: 50%;\n",
              "      cursor: pointer;\n",
              "      display: none;\n",
              "      fill: #1967D2;\n",
              "      height: 32px;\n",
              "      padding: 0 0 0 0;\n",
              "      width: 32px;\n",
              "    }\n",
              "\n",
              "    .colab-df-convert:hover {\n",
              "      background-color: #E2EBFA;\n",
              "      box-shadow: 0px 1px 2px rgba(60, 64, 67, 0.3), 0px 1px 3px 1px rgba(60, 64, 67, 0.15);\n",
              "      fill: #174EA6;\n",
              "    }\n",
              "\n",
              "    [theme=dark] .colab-df-convert {\n",
              "      background-color: #3B4455;\n",
              "      fill: #D2E3FC;\n",
              "    }\n",
              "\n",
              "    [theme=dark] .colab-df-convert:hover {\n",
              "      background-color: #434B5C;\n",
              "      box-shadow: 0px 1px 3px 1px rgba(0, 0, 0, 0.15);\n",
              "      filter: drop-shadow(0px 1px 2px rgba(0, 0, 0, 0.3));\n",
              "      fill: #FFFFFF;\n",
              "    }\n",
              "  </style>\n",
              "\n",
              "      <script>\n",
              "        const buttonEl =\n",
              "          document.querySelector('#df-6612bbfd-614f-4b34-9727-215db34d96c9 button.colab-df-convert');\n",
              "        buttonEl.style.display =\n",
              "          google.colab.kernel.accessAllowed ? 'block' : 'none';\n",
              "\n",
              "        async function convertToInteractive(key) {\n",
              "          const element = document.querySelector('#df-6612bbfd-614f-4b34-9727-215db34d96c9');\n",
              "          const dataTable =\n",
              "            await google.colab.kernel.invokeFunction('convertToInteractive',\n",
              "                                                     [key], {});\n",
              "          if (!dataTable) return;\n",
              "\n",
              "          const docLinkHtml = 'Like what you see? Visit the ' +\n",
              "            '<a target=\"_blank\" href=https://colab.research.google.com/notebooks/data_table.ipynb>data table notebook</a>'\n",
              "            + ' to learn more about interactive tables.';\n",
              "          element.innerHTML = '';\n",
              "          dataTable['output_type'] = 'display_data';\n",
              "          await google.colab.output.renderOutput(dataTable, element);\n",
              "          const docLink = document.createElement('div');\n",
              "          docLink.innerHTML = docLinkHtml;\n",
              "          element.appendChild(docLink);\n",
              "        }\n",
              "      </script>\n",
              "    </div>\n",
              "  </div>\n",
              "  "
            ]
          },
          "metadata": {},
          "execution_count": 21
        }
      ]
    },
    {
      "cell_type": "code",
      "source": [
        "# Dimensiones del dataset\n",
        "df_3.shape"
      ],
      "metadata": {
        "colab": {
          "base_uri": "https://localhost:8080/"
        },
        "id": "19PY1pchBRY-",
        "outputId": "d6650f48-c49b-463e-b54d-6950d1f712d3"
      },
      "execution_count": 22,
      "outputs": [
        {
          "output_type": "execute_result",
          "data": {
            "text/plain": [
              "(1866, 41)"
            ]
          },
          "metadata": {},
          "execution_count": 22
        }
      ]
    },
    {
      "cell_type": "code",
      "source": [
        "# Tipos de columnas\n",
        "df_3.dtypes"
      ],
      "metadata": {
        "colab": {
          "base_uri": "https://localhost:8080/"
        },
        "id": "Vn4X7XyND4ws",
        "outputId": "1041a8a9-a329-4e6d-e05c-2d164148dfa6"
      },
      "execution_count": 23,
      "outputs": [
        {
          "output_type": "execute_result",
          "data": {
            "text/plain": [
              "Name                  object\n",
              "Nationality           object\n",
              "National_Position      int64\n",
              "Club_Position         object\n",
              "Height                 int64\n",
              "Weight                 int64\n",
              "Preffered_Foot        object\n",
              "Age                    int64\n",
              "Work_Rate             object\n",
              "Weak_foot              int64\n",
              "Skill_Moves            int64\n",
              "Ball_Control           int64\n",
              "Dribbling              int64\n",
              "Marking                int64\n",
              "Sliding_Tackle         int64\n",
              "Standing_Tackle        int64\n",
              "Aggression             int64\n",
              "Reactions              int64\n",
              "Interceptions          int64\n",
              "Vision                 int64\n",
              "Composure              int64\n",
              "Crossing               int64\n",
              "Short_Pass             int64\n",
              "Long_Pass              int64\n",
              "Acceleration           int64\n",
              "Speed                  int64\n",
              "Stamina                int64\n",
              "Strength               int64\n",
              "Balance                int64\n",
              "Agility                int64\n",
              "Jumping                int64\n",
              "Heading                int64\n",
              "Shot_Power             int64\n",
              "Finishing              int64\n",
              "Long_Shots             int64\n",
              "Curve                  int64\n",
              "Freekick_Accuracy      int64\n",
              "Penalties              int64\n",
              "Volleys                int64\n",
              "Player                object\n",
              "Weekly Salary        float64\n",
              "dtype: object"
            ]
          },
          "metadata": {},
          "execution_count": 23
        }
      ]
    },
    {
      "cell_type": "code",
      "source": [
        "# Datos Categóricos (Se omite la variable Name ya que se considera que no aporta \n",
        "# para la clasificación)\n",
        "cat_cols_3 = ['Nationality', 'Club_Position', 'Preffered_Foot', 'Work_Rate']\n",
        "cat_transformer_3 = OneHotEncoder(handle_unknown='ignore', sparse=False)\n",
        "\n",
        "# Datos numéricos\n",
        "num_cols_3 = ['Height', 'Weight', 'Age', 'Weak_foot',\n",
        "       'Skill_Moves', 'Ball_Control', 'Dribbling', 'Marking', 'Sliding_Tackle',\n",
        "       'Standing_Tackle', 'Aggression', 'Reactions', 'Interceptions', 'Vision',\n",
        "       'Composure', 'Crossing', 'Short_Pass', 'Long_Pass', 'Acceleration',\n",
        "       'Speed', 'Stamina', 'Strength', 'Balance', 'Agility', 'Jumping',\n",
        "       'Heading', 'Shot_Power', 'Finishing', 'Long_Shots', 'Curve',\n",
        "       'Freekick_Accuracy', 'Penalties', 'Volleys', 'National_Position']\n",
        "num_transformer_3 = MinMaxScaler()\n",
        "\n",
        "# ColumnTransformer\n",
        "preprocessor_3 = ColumnTransformer(\n",
        "    transformers=[('cat', cat_transformer_3, cat_cols_3),\n",
        "        ('num', num_transformer_3, num_cols_3)],\n",
        "    remainder='passthrough', \n",
        "    sparse_threshold = 0)"
      ],
      "metadata": {
        "id": "Bsh5NUwQB0XZ"
      },
      "execution_count": 24,
      "outputs": []
    },
    {
      "cell_type": "markdown",
      "source": [
        "Ahora, de acuerdo a la guía, se cuenta con más de 50 registros, no se está prediciendo una categoría, pero sí una cantidad. Luego, se tiene que hay menos de 100.000 registros. Dado lo anterior, los modelos a implementar RidgeRegression, SVR(kernel=linear) y RandomForestRegressor."
      ],
      "metadata": {
        "id": "WerjYatGEp78"
      }
    },
    {
      "cell_type": "code",
      "source": [
        "# Pipeline\n",
        "pipeline_ridge = Pipeline(steps=[('preprocessor', preprocessor_3), \n",
        " ('linearsvc', Ridge())])\n",
        "\n",
        "pipeline_svr = Pipeline(steps=[('preprocessor', preprocessor_3), \n",
        " ('knc', SVR(kernel = 'linear'))])\n",
        "\n",
        "pipeline_rfr = Pipeline(steps=[('preprocessor', preprocessor_3), \n",
        " ('rf', RandomForestRegressor(max_depth=2, random_state=0))])"
      ],
      "metadata": {
        "id": "ZZ4cY3Y0EdAd"
      },
      "execution_count": 25,
      "outputs": []
    },
    {
      "cell_type": "code",
      "source": [
        "# Separación del dataset\n",
        "X_3 = df_3[['Nationality', 'Height',\n",
        "       'Weight', 'Preffered_Foot', 'Age', 'Work_Rate', 'Weak_foot',\n",
        "       'Skill_Moves', 'Ball_Control', 'Dribbling', 'Marking', 'Sliding_Tackle',\n",
        "       'Standing_Tackle', 'Aggression', 'Reactions', 'Interceptions', 'Vision',\n",
        "       'Composure', 'Crossing', 'Short_Pass', 'Long_Pass', 'Acceleration',\n",
        "       'Speed', 'Stamina', 'Strength', 'Balance', 'Agility', 'Jumping',\n",
        "       'Heading', 'Shot_Power', 'Finishing', 'Long_Shots', 'Curve',\n",
        "       'Freekick_Accuracy', 'Penalties', 'Volleys', 'National_Position',\n",
        "       'Club_Position']]\n",
        "\n",
        "y_3 = df_3['Weekly Salary']\n",
        "\n",
        "X_train_3, X_test_3, y_train_3, y_test_3 = train_test_split(X_3, y_3, test_size=0.3, random_state=0)"
      ],
      "metadata": {
        "id": "j0SBkJsEI-Kw"
      },
      "execution_count": 26,
      "outputs": []
    },
    {
      "cell_type": "code",
      "source": [
        "# Entrenamiento y métrica de evaluación\n",
        "pipeline_ridge.fit(X_train_3, y_train_3)\n",
        "y_pred_ridge = pipeline_ridge.predict(X_test_3)\n",
        "r2_score(y_test_3, y_pred_ridge)"
      ],
      "metadata": {
        "colab": {
          "base_uri": "https://localhost:8080/"
        },
        "id": "M1y2fu2mJeDJ",
        "outputId": "464917cf-1705-4bd8-b1d8-6b8a7fc6538d"
      },
      "execution_count": 27,
      "outputs": [
        {
          "output_type": "stream",
          "name": "stderr",
          "text": [
            "/usr/local/lib/python3.10/dist-packages/sklearn/preprocessing/_encoders.py:868: FutureWarning: `sparse` was renamed to `sparse_output` in version 1.2 and will be removed in 1.4. `sparse_output` is ignored unless you leave `sparse` to its default value.\n",
            "  warnings.warn(\n"
          ]
        },
        {
          "output_type": "execute_result",
          "data": {
            "text/plain": [
              "0.3267900639430309"
            ]
          },
          "metadata": {},
          "execution_count": 27
        }
      ]
    },
    {
      "cell_type": "code",
      "source": [
        "# Entrenamiento y métrica de evaluación\n",
        "pipeline_svr.fit(X_train_3, y_train_3)\n",
        "y_pred_svr = pipeline_svr.predict(X_test_3)\n",
        "r2_score(y_test_3, y_pred_svr)"
      ],
      "metadata": {
        "colab": {
          "base_uri": "https://localhost:8080/"
        },
        "id": "bJnyHANlKzDM",
        "outputId": "fea44b30-cdd0-44d5-c1cf-a3a862a0d1e0"
      },
      "execution_count": 28,
      "outputs": [
        {
          "output_type": "stream",
          "name": "stderr",
          "text": [
            "/usr/local/lib/python3.10/dist-packages/sklearn/preprocessing/_encoders.py:868: FutureWarning: `sparse` was renamed to `sparse_output` in version 1.2 and will be removed in 1.4. `sparse_output` is ignored unless you leave `sparse` to its default value.\n",
            "  warnings.warn(\n"
          ]
        },
        {
          "output_type": "execute_result",
          "data": {
            "text/plain": [
              "-0.11983877945138688"
            ]
          },
          "metadata": {},
          "execution_count": 28
        }
      ]
    },
    {
      "cell_type": "code",
      "source": [
        "# Entrenamiento y métrica de evaluación\n",
        "pipeline_rfr.fit(X_train_3, y_train_3)\n",
        "y_pred_rfr = pipeline_rfr.predict(X_test_3)\n",
        "r2_score(y_test_3, y_pred_rfr)"
      ],
      "metadata": {
        "colab": {
          "base_uri": "https://localhost:8080/"
        },
        "id": "KWcHPszSK4DM",
        "outputId": "c89be860-44b4-4a96-dd9d-57adc3b1cecf"
      },
      "execution_count": 29,
      "outputs": [
        {
          "output_type": "stream",
          "name": "stderr",
          "text": [
            "/usr/local/lib/python3.10/dist-packages/sklearn/preprocessing/_encoders.py:868: FutureWarning: `sparse` was renamed to `sparse_output` in version 1.2 and will be removed in 1.4. `sparse_output` is ignored unless you leave `sparse` to its default value.\n",
            "  warnings.warn(\n"
          ]
        },
        {
          "output_type": "execute_result",
          "data": {
            "text/plain": [
              "0.48055834519045904"
            ]
          },
          "metadata": {},
          "execution_count": 29
        }
      ]
    },
    {
      "cell_type": "markdown",
      "source": [
        "El coeficiente $R^2$ se interpreta como la varianza que es explicada por el modelo; entre más cercano sea esta valor a uno, mejor las variables independientes explican a la varianza de la varible dependiente.\n",
        "\n",
        "Los modelos Ridge y SVR no logran superar el 0.35 para $R^2$, incluso SVR obtuvo un coeficiente negativo. Por otra parte, RandomForestRegressor obtuvo un coeficiente de 0.48 aproximadamente superando el mínimo solicitado. \n",
        "\n",
        "Para mejorar los resultados se propone buscar nuevas variables que estén más relacionadas con el ingreso de un jugador de fútbol. Se tienen múltiples variables relacionadas con el desempeño como jugador, pero no tantas relacionadas con su capacidad para generar ingresos. Algunas variables de interés podría ser el país de residencia, edad del jugador, club en el que entrena, etc. Ahora bien, si esto no llegara a ser suficiente sería bueno ampliar la base de datos, especialemente para los niveles de ingresos menos representados."
      ],
      "metadata": {
        "id": "AED3O4OvLOsv"
      }
    },
    {
      "cell_type": "markdown",
      "source": [
        "# Conclusión"
      ],
      "metadata": {
        "id": "ix2HsTsSLKWk"
      }
    },
    {
      "cell_type": "markdown",
      "source": [
        "Eso ha sido todo para el lab de hoy, recuerden que el laboratorio tiene un plazo de entrega de una semana. Cualquier duda del laboratorio, no duden en contactarnos por mail o U-cursos.\n",
        "\n",
        "<p align=\"center\">\n",
        "  <img src=\"https://media2.giphy.com/media/l1J3CbFgn5o7DGRuE/giphy.gif\">\n",
        "</p>"
      ],
      "metadata": {
        "id": "Rg4ZMq8ezAH6",
        "cell_id": "502994b597214d4ba2f05e2b900d895c",
        "deepnote_cell_type": "markdown"
      }
    },
    {
      "cell_type": "markdown",
      "source": [
        "<br>\n",
        "<center>\n",
        "<img src=\"https://i.kym-cdn.com/photos/images/original/001/194/195/b18.png\" width=100 height=50 />\n",
        "</center>\n",
        "<br>"
      ],
      "metadata": {
        "id": "wCL1lACBzAH7",
        "cell_id": "da6d643bcf1542a8b119a15edaf0f75c",
        "deepnote_cell_type": "markdown"
      }
    },
    {
      "cell_type": "markdown",
      "source": [
        "<a style='text-decoration:none;line-height:16px;display:flex;color:#5B5B62;padding:10px;justify-content:end;' href='https://deepnote.com?utm_source=created-in-deepnote-cell&projectId=87110296-876e-426f-b91d-aaf681223468' target=\"_blank\">\n",
        "<img alt='Created in deepnote.com' style='display:inline;max-height:16px;margin:0px;margin-right:7.5px;' src='data:image/svg+xml;base64,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' > </img>\n",
        "Created in <span style='font-weight:600;margin-left:4px;'>Deepnote</span></a>"
      ],
      "metadata": {
        "created_in_deepnote_cell": true,
        "deepnote_cell_type": "markdown",
        "id": "AeGEY3AyuqX5"
      }
    },
    {
      "cell_type": "code",
      "source": [],
      "metadata": {
        "id": "tRC5wWJpBbsv"
      },
      "execution_count": null,
      "outputs": []
    }
  ],
  "nbformat": 4,
  "nbformat_minor": 0,
  "metadata": {
    "toc": {
      "sideBar": true,
      "nav_menu": {},
      "toc_cell": false,
      "title_cell": "Tabla de Contenidos",
      "toc_position": {
        "top": "150px",
        "left": "10px",
        "width": "241.867px",
        "height": "calc(100% - 180px)"
      },
      "skip_h1_title": true,
      "title_sidebar": "Contenidos",
      "base_numbering": 1,
      "number_sections": true,
      "toc_window_display": true,
      "toc_section_display": true
    },
    "colab": {
      "provenance": [],
      "collapsed_sections": [
        "MhISwri4zAHy",
        "PZuNmhj5kW_x",
        "2Fnw1doEkRmD",
        "Er2bAL0fkbQ1",
        "-kCfIx7b5u7X",
        "VHm_xOUHM9p1",
        "ix2HsTsSLKWk"
      ]
    },
    "deepnote": {},
    "kernelspec": {
      "name": "python3",
      "language": "python",
      "display_name": "Python 3"
    },
    "varInspector": {
      "cols": {
        "lenVar": 40,
        "lenName": 16,
        "lenType": 16
      },
      "kernels_config": {
        "r": {
          "library": "var_list.r",
          "varRefreshCmd": "cat(var_dic_list()) ",
          "delete_cmd_prefix": "rm(",
          "delete_cmd_postfix": ") "
        },
        "python": {
          "library": "var_list.py",
          "varRefreshCmd": "print(var_dic_list())",
          "delete_cmd_prefix": "del ",
          "delete_cmd_postfix": ""
        }
      },
      "window_display": false,
      "types_to_exclude": [
        "module",
        "function",
        "builtin_function_or_method",
        "instance",
        "_Feature"
      ]
    },
    "language_info": {
      "name": "python",
      "version": "3.8.3",
      "mimetype": "text/x-python",
      "file_extension": ".py",
      "pygments_lexer": "ipython3",
      "codemirror_mode": {
        "name": "ipython",
        "version": 3
      },
      "nbconvert_exporter": "python"
    },
    "deepnote_notebook_id": "41ad7e529bfb484c8f7f538003203695",
    "deepnote_execution_queue": []
  }
}